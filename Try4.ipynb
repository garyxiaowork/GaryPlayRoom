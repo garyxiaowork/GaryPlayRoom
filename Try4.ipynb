{
 "cells": [
  {
   "cell_type": "markdown",
   "metadata": {},
   "source": [
    "# Accessing, Managing Groups"
   ]
  },
  {
   "cell_type": "code",
   "execution_count": 1,
   "metadata": {},
   "outputs": [],
   "source": [
    "\n",
    "\n",
    "# Import\n",
    "from arcgis.gis import GIS\n",
    "# logins:\n",
    "apl = GIS(url=\"https://python.playground.esri.com/portal\",username='arcgis_python', password='amazing_arcgis_123', profile='python_playground_prof')\n",
    "aol = GIS(url=\"https://arcgis.com/\", username='arcgis_python', password=\"P@ssword123\",)\n",
    "apa =GIS(\"https://python.playground.esri.com/portal\")\n",
    "aoa =GIS()\n"
   ]
  },
  {
   "cell_type": "code",
   "execution_count": 11,
   "metadata": {},
   "outputs": [
    {
     "data": {
      "text/plain": [
       "[<Group title:\"ArcGIS Urban Hub Share\" owner:Urban_Admin>,\n",
       " <Group title:\"ArcGIS Urban Open Data\" owner:Urban_Admin>,\n",
       " <Group title:\"ArcGIS Urban Paris\" owner:Urban_Admin>,\n",
       " <Group title:\"BSU GIS Students Urban Planning Plan 412\" owner:magyar123>,\n",
       " <Group title:\"Center on Urban Poverty and Community Development\" owner:neocando_CWRU>,\n",
       " <Group title:\"Chicago Urban Planners\" owner:vziols2>,\n",
       " <Group title:\"City of Toronto Urban Forestry\" owner:jmcmeek>,\n",
       " <Group title:\"Claremont Urban Tree Initiative\" owner:claremontcolleges>,\n",
       " <Group title:\"CP255 Urban Applications of Geographic Information Systems\" owner:CP255_Instructor>,\n",
       " <Group title:\"CRP 3851/5851 Special Topics in Urban Design: Sustainable Adaptation of Large Modern Footprints (Fall 2014)\" owner:bnb29_CUGIS>,\n",
       " <Group title:\"CURSO_ARC_URBAN\" owner:JulianaOnzi>,\n",
       " <Group title:\"D.C. urban agriculture\" owner:amandahuron>,\n",
       " <Group title:\"Data Sharing - Common Ground Urban Design & Planning\" owner:kevin.cross>,\n",
       " <Group title:\"DC Urban Forestry - External Customers\" owner:matt8819@esri.com_statesales>,\n",
       " <Group title:\"DDOT Urban Forestry Division Initiative Open Data Group\" owner:matt8819@esri.com_statesales>]"
      ]
     },
     "execution_count": 11,
     "metadata": {},
     "output_type": "execute_result"
    }
   ],
   "source": [
    "urban_groups = aoa.groups.search('title:Urban', max_groups=15)\n",
    "urban_groups"
   ]
  },
  {
   "cell_type": "code",
   "execution_count": 12,
   "metadata": {},
   "outputs": [
    {
     "data": {
      "text/html": [
       "<div class=\"9item_container\" style=\"height: auto; overflow: hidden; border: 1px solid #cfcfcf; border-radius: 2px; background: #f6fafa; line-height: 1.21429em; padding: 10px;\">\n",
       "                    <div class=\"item_left\" style=\"width: 210px; float: left;\">\n",
       "                       <a href='https://www.arcgis.com/home/group.html?id=14b226180ee64659b28e2d7786ac2d42' target='_blank'>\n",
       "                        <img src='https://www.arcgis.com/sharing/rest/community/groups/14b226180ee64659b28e2d7786ac2d42/info/Chicago-grantmaking_kEvChBx.jpg.120x120_q85_detail_upscale.jpg' class=\"itemThumbnail\">\n",
       "                       </a>\n",
       "                    </div>\n",
       "\n",
       "                    <div class=\"item_right\" style=\"float: none; width: auto; overflow: hidden;\">\n",
       "                        <a href='https://www.arcgis.com/home/group.html?id=14b226180ee64659b28e2d7786ac2d42' target='_blank'><b>Chicago Urban Planners</b>\n",
       "                        </a>\n",
       "                        <br/>\n",
       "                        <br/><b>Summary</b>: Working in the City of Big Shoulders to make urban environments a better place for people to thrive. \n",
       "                        <br/><b>Description</b>: None\n",
       "                        <br/><b>Owner</b>: vziols2\n",
       "                        <br/><b>Created</b>: June 22, 2016\n",
       "\n",
       "                    </div>\n",
       "                </div>\n",
       "                "
      ],
      "text/plain": [
       "<Group title:\"Chicago Urban Planners\" owner:vziols2>"
      ]
     },
     "execution_count": 12,
     "metadata": {},
     "output_type": "execute_result"
    }
   ],
   "source": [
    "urban_groups[5]\n"
   ]
  },
  {
   "cell_type": "code",
   "execution_count": 15,
   "metadata": {},
   "outputs": [
    {
     "data": {
      "text/plain": [
       "[<Group title:\"**LIVE** Essentials Basemaps\" owner:sch7712>,\n",
       " <Group title:\"**LIVE** SARA Basemaps\" owner:sch7712>,\n",
       " <Group title:\"2016 Byrne Seminar Series Raritan River\" owner:mmazureknj>,\n",
       " <Group title:\"A-16 Content\" owner:Federal_User_Community>,\n",
       " <Group title:\"Active Surface Faults in Houston, TX, USA\" owner:kcking99>,\n",
       " <Group title:\"Additional basemaps\" owner:moh_Ramboll>,\n",
       " <Group title:\"Administration - Basemaps\" owner:GIS_StAlbert>,\n",
       " <Group title:\"Afghanistan Foundation\" owner:Intel_AFMIE>,\n",
       " <Group title:\"Alachua Basemaps\" owner:ACPAFL>,\n",
       " <Group title:\"Andean Alliance for Sustainable Development GIS\" owner:AASD>,\n",
       " <Group title:\"Antarctic Maps\" owner:esri>,\n",
       " <Group title:\"Apps and Resources\" owner:heidi.uow>,\n",
       " <Group title:\"ArcGIS 3D Base Scene Review Group\" owner:3DCitiesAdmin>,\n",
       " <Group title:\"ArcGIS Explorer Desktop Basemaps and Layers\" owner:esri_arcgisexplorer>,\n",
       " <Group title:\"ArcGIS for Local Government TryItLive Basemaps\" owner:ArcGISforLocalGovTryIt>]"
      ]
     },
     "execution_count": 15,
     "metadata": {},
     "output_type": "execute_result"
    }
   ],
   "source": [
    "esri_owned_groups = aoa.groups.search(query='access:public and description:basemaps', max_groups=15)\n",
    "esri_owned_groups"
   ]
  },
  {
   "cell_type": "code",
   "execution_count": 17,
   "metadata": {},
   "outputs": [
    {
     "data": {
      "text/plain": [
       "'public'"
      ]
     },
     "execution_count": 17,
     "metadata": {},
     "output_type": "execute_result"
    },
    {
     "data": {
      "text/html": [
       "<div class=\"9item_container\" style=\"height: auto; overflow: hidden; border: 1px solid #cfcfcf; border-radius: 2px; background: #f6fafa; line-height: 1.21429em; padding: 10px;\">\n",
       "                    <div class=\"item_left\" style=\"width: 210px; float: left;\">\n",
       "                       <a href='https://www.arcgis.com/home/group.html?id=1ed4454260634b06a0524c7998f87989' target='_blank'>\n",
       "                        <img src='https://www.arcgis.com/sharing/rest/community/groups/1ed4454260634b06a0524c7998f87989/info/Command.png' class=\"itemThumbnail\">\n",
       "                       </a>\n",
       "                    </div>\n",
       "\n",
       "                    <div class=\"item_right\" style=\"float: none; width: auto; overflow: hidden;\">\n",
       "                        <a href='https://www.arcgis.com/home/group.html?id=1ed4454260634b06a0524c7998f87989' target='_blank'><b>**LIVE** Essentials Basemaps</b>\n",
       "                        </a>\n",
       "                        <br/>\n",
       "                        <br/><b>Summary</b>: This group contains the basemaps that will be utilized in the KC Essentials Map. This group is used *LIVE* in the Essentials Map.\n",
       "                        <br/><b>Description</b>: The following basemaps will be added (as of 4/3/2017):<div><br /></div><div><ul><li>Esri Topo</li><li>Hybrid w/ Transportation</li><li>Esri Streets</li></ul><div><br /></div></div><div>The Essentials Map references this group by its Name<span style='background-color: rgb(255, 255, 255);'> <font color='#2f4f4f'>(<span style='font-family: &quot;Avenir LT W01 35 Light&quot;, &quot;Avenir Next&quot;, Avenir, &quot;Helvetica Neue&quot;, Helvetica, Arial, sans-serif;'><font size='2'>Essentials Basemaps) and by its ID (</font></span></font></span><font color='#2f4f4f' face='Avenir LT W01 35 Light, Avenir Next, Avenir, Helvetica Neue, Helvetica, Arial, sans-serif' size='2'>1ed4454260634b06a0524c7998f87989).</font></div><div><font color='#2f4f4f' face='Avenir LT W01 35 Light, Avenir Next, Avenir, Helvetica Neue, Helvetica, Arial, sans-serif' size='2'><br /></font></div><div><font color='#2f4f4f' face='Avenir LT W01 35 Light, Avenir Next, Avenir, Helvetica Neue, Helvetica, Arial, sans-serif' size='2'>This allows the basemaps displayed in the Essentials Map's Basemap Gallery widget to be changed w/o editing code.  </font></div>\n",
       "                        <br/><b>Owner</b>: sch7712\n",
       "                        <br/><b>Created</b>: April 03, 2017\n",
       "\n",
       "                    </div>\n",
       "                </div>\n",
       "                "
      ],
      "text/plain": [
       "<Group title:\"**LIVE** Essentials Basemaps\" owner:sch7712>"
      ]
     },
     "execution_count": 17,
     "metadata": {},
     "output_type": "execute_result"
    }
   ],
   "source": [
    "basemaps = esri_owned_groups[0]\n",
    "basemaps.access\n",
    "basemaps"
   ]
  },
  {
   "cell_type": "code",
   "execution_count": 21,
   "metadata": {},
   "outputs": [
    {
     "name": "stdout",
     "output_type": "stream",
     "text": [
      "1ed4454260634b06a0524c7998f87989 False False\n",
      "sch7712\n"
     ]
    },
    {
     "data": {
      "text/plain": [
       "time.struct_time(tm_year=2017, tm_mon=4, tm_mday=3, tm_hour=15, tm_min=27, tm_sec=16, tm_wday=0, tm_yday=93, tm_isdst=1)"
      ]
     },
     "execution_count": 21,
     "metadata": {},
     "output_type": "execute_result"
    }
   ],
   "source": [
    "# Get more property\n",
    "import time\n",
    "print(basemaps.groupid, basemaps.isFav, basemaps.isInvitationOnly)\n",
    "print(basemaps.owner)\n",
    "time.localtime(basemaps.created/1000)"
   ]
  },
  {
   "cell_type": "code",
   "execution_count": 25,
   "metadata": {},
   "outputs": [
    {
     "data": {
      "text/html": [
       "<div class=\"9item_container\" style=\"height: auto; overflow: hidden; border: 1px solid #cfcfcf; border-radius: 2px; background: #f6fafa; line-height: 1.21429em; padding: 10px;\">\n",
       "                    <div class=\"item_left\" style=\"width: 210px; float: left;\">\n",
       "                       <a href='https://www.arcgis.com/home/group.html?id=1ed4454260634b06a0524c7998f87989' target='_blank'>\n",
       "                        <img src='https://www.arcgis.com/sharing/rest/community/groups/1ed4454260634b06a0524c7998f87989/info/Command.png' class=\"itemThumbnail\">\n",
       "                       </a>\n",
       "                    </div>\n",
       "\n",
       "                    <div class=\"item_right\" style=\"float: none; width: auto; overflow: hidden;\">\n",
       "                        <a href='https://www.arcgis.com/home/group.html?id=1ed4454260634b06a0524c7998f87989' target='_blank'><b>**LIVE** Essentials Basemaps</b>\n",
       "                        </a>\n",
       "                        <br/>\n",
       "                        <br/><b>Summary</b>: This group contains the basemaps that will be utilized in the KC Essentials Map. This group is used *LIVE* in the Essentials Map.\n",
       "                        <br/><b>Description</b>: The following basemaps will be added (as of 4/3/2017):<div><br /></div><div><ul><li>Esri Topo</li><li>Hybrid w/ Transportation</li><li>Esri Streets</li></ul><div><br /></div></div><div>The Essentials Map references this group by its Name<span style='background-color: rgb(255, 255, 255);'> <font color='#2f4f4f'>(<span style='font-family: &quot;Avenir LT W01 35 Light&quot;, &quot;Avenir Next&quot;, Avenir, &quot;Helvetica Neue&quot;, Helvetica, Arial, sans-serif;'><font size='2'>Essentials Basemaps) and by its ID (</font></span></font></span><font color='#2f4f4f' face='Avenir LT W01 35 Light, Avenir Next, Avenir, Helvetica Neue, Helvetica, Arial, sans-serif' size='2'>1ed4454260634b06a0524c7998f87989).</font></div><div><font color='#2f4f4f' face='Avenir LT W01 35 Light, Avenir Next, Avenir, Helvetica Neue, Helvetica, Arial, sans-serif' size='2'><br /></font></div><div><font color='#2f4f4f' face='Avenir LT W01 35 Light, Avenir Next, Avenir, Helvetica Neue, Helvetica, Arial, sans-serif' size='2'>This allows the basemaps displayed in the Essentials Map's Basemap Gallery widget to be changed w/o editing code.  </font></div>\n",
       "                        <br/><b>Owner</b>: sch7712\n",
       "                        <br/><b>Created</b>: April 03, 2017\n",
       "\n",
       "                    </div>\n",
       "                </div>\n",
       "                "
      ],
      "text/plain": [
       "<Group title:\"**LIVE** Essentials Basemaps\" owner:sch7712>"
      ]
     },
     "execution_count": 25,
     "metadata": {},
     "output_type": "execute_result"
    }
   ],
   "source": [
    "#after you find the group id , you can get the item\n",
    "aoa.groups.get('1ed4454260634b06a0524c7998f87989' )\n"
   ]
  },
  {
   "cell_type": "markdown",
   "metadata": {},
   "source": [
    "## creating new groups\n"
   ]
  },
  {
   "cell_type": "code",
   "execution_count": 43,
   "metadata": {},
   "outputs": [
    {
     "data": {
      "text/plain": [
       "True"
      ]
     },
     "execution_count": 43,
     "metadata": {},
     "output_type": "execute_result"
    }
   ],
   "source": [
    "# connect to GIS with credentials\n",
    "geocaching_group.delete()\n",
    "geocaching_group = apl.groups.create(title='Recreational geocaching',\n",
    "                                    tags = 'hobby, geocaching, gps, hide n seek',\n",
    "                                    description = 'Group to share your landmarks and games',\n",
    "                                    snippet = 'Share your GPX tracks as feature layers here',\n",
    "                                    access = 'org',\n",
    "                                    is_invitation_only = 'False',\n",
    "                                    thumbnail = r'C:\\Users\\jeng430\\Pictures\\gis.jpg')\n",
    "\n"
   ]
  },
  {
   "cell_type": "code",
   "execution_count": 44,
   "metadata": {},
   "outputs": [
    {
     "data": {
      "text/html": [
       "<div class=\"9item_container\" style=\"height: auto; overflow: hidden; border: 1px solid #cfcfcf; border-radius: 2px; background: #f6fafa; line-height: 1.21429em; padding: 10px;\">\n",
       "                    <div class=\"item_left\" style=\"width: 210px; float: left;\">\n",
       "                       <a href='https://python.playground.esri.com/portal/home/group.html?id=3e27dc7f0f4743298c39db451d3d927f' target='_blank'>\n",
       "                        <img src='data:image/png;base64,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' ' class=\"itemThumbnail\">\n",
       "                       </a>\n",
       "                    </div>\n",
       "\n",
       "                    <div class=\"item_right\" style=\"float: none; width: auto; overflow: hidden;\">\n",
       "                        <a href='https://python.playground.esri.com/portal/home/group.html?id=3e27dc7f0f4743298c39db451d3d927f' target='_blank'><b>Recreational geocaching</b>\n",
       "                        </a>\n",
       "                        <br/>\n",
       "                        <br/><b>Summary</b>: Share your GPX tracks as feature layers here\n",
       "                        <br/><b>Description</b>: Group to share your landmarks and games\n",
       "                        <br/><b>Owner</b>: arcgis_python\n",
       "                        <br/><b>Created</b>: July 20, 2018\n",
       "\n",
       "                    </div>\n",
       "                </div>\n",
       "                "
      ],
      "text/plain": [
       "<Group title:\"Recreational geocaching\" owner:arcgis_python>"
      ]
     },
     "execution_count": 44,
     "metadata": {},
     "output_type": "execute_result"
    }
   ],
   "source": [
    "geocaching_group\n"
   ]
  },
  {
   "cell_type": "markdown",
   "metadata": {},
   "source": [
    "\n",
    "Sharing content to groups"
   ]
  },
  {
   "cell_type": "code",
   "execution_count": 54,
   "metadata": {},
   "outputs": [
    {
     "data": {
      "text/plain": [
       "[<Item title:\"Imagery with Labels\" type:Web Map owner:arcgis_python>,\n",
       " <Item title:\"Physical With Labels\" type:Web Map owner:arcgis_python>,\n",
       " <Item title:\"World Hillshade\" type:Web Map owner:arcgis_python>,\n",
       " <Item title:\"Ocean Basemap\" type:Web Map owner:arcgis_python>,\n",
       " <Item title:\"DeLorme World Basemap\" type:Web Map owner:arcgis_python>,\n",
       " <Item title:\"earthquakes_2\" type:Service Definition owner:arcgis_python>,\n",
       " <Item title:\"MapWorld Global Basemap\" type:Web Map owner:arcgis_python>,\n",
       " <Item title:\"Ebola_Treatment_Units\" type:Feature Layer Collection owner:arcgis_python>,\n",
       " <Item title:\"SanDiego_PlacesToRun\" type:Imagery Layer owner:arcgis_python>,\n",
       " <Item title:\"Redlands vegetation growth\" type:Imagery Layer owner:arcgis_python>]"
      ]
     },
     "execution_count": 54,
     "metadata": {},
     "output_type": "execute_result"
    },
    {
     "data": {
      "text/plain": [
       "'private'"
      ]
     },
     "execution_count": 54,
     "metadata": {},
     "output_type": "execute_result"
    }
   ],
   "source": [
    "#search a private content\n",
    "result=apl.content.search(\"access:private\")\n",
    "result\n",
    "#check access property\n",
    "result[0].access\n"
   ]
  },
  {
   "cell_type": "code",
   "execution_count": 55,
   "metadata": {},
   "outputs": [
    {
     "data": {
      "text/plain": [
       "{'notSharedWith': [], 'itemId': '81ecd3cf37a94f4fb343de98a3195b21'}"
      ]
     },
     "execution_count": 55,
     "metadata": {},
     "output_type": "execute_result"
    },
    {
     "data": {
      "text/plain": [
       "{'notSharedWith': [], 'itemId': '2641f35af5df434a8340f724b9d2315f'}"
      ]
     },
     "execution_count": 55,
     "metadata": {},
     "output_type": "execute_result"
    },
    {
     "data": {
      "text/plain": [
       "{'notSharedWith': [], 'itemId': 'f1462303fe014afe8f5424951fe40937'}"
      ]
     },
     "execution_count": 55,
     "metadata": {},
     "output_type": "execute_result"
    }
   ],
   "source": [
    "#share content to a group\n",
    "result[0].share(groups=geocaching_group.id)\n",
    "result[1].share(groups=geocaching_group.id)\n",
    "result[2].share(groups=geocaching_group.id)"
   ]
  },
  {
   "cell_type": "code",
   "execution_count": 56,
   "metadata": {},
   "outputs": [
    {
     "data": {
      "text/plain": [
       "[<Item title:\"Imagery with Labels\" type:Web Map owner:arcgis_python>,\n",
       " <Item title:\"Locations of power pedestals collected in 2012\" type:Feature Layer Collection owner:arcgis_python>,\n",
       " <Item title:\"Physical With Labels\" type:Web Map owner:arcgis_python>,\n",
       " <Item title:\"World Hillshade\" type:Web Map owner:arcgis_python>]"
      ]
     },
     "execution_count": 56,
     "metadata": {},
     "output_type": "execute_result"
    }
   ],
   "source": [
    "#Listing contents of the group\n",
    "geocaching_group.content()"
   ]
  },
  {
   "cell_type": "markdown",
   "metadata": {},
   "source": [
    "## Adding removing users to the group"
   ]
  },
  {
   "cell_type": "code",
   "execution_count": 57,
   "metadata": {},
   "outputs": [
    {
     "data": {
      "text/plain": [
       "{'notAdded': ['publisher2', 'publisher1', 'demo_user1']}"
      ]
     },
     "execution_count": 57,
     "metadata": {},
     "output_type": "execute_result"
    }
   ],
   "source": [
    "# let us add publisher1 and publisher2 to this group\n",
    "geocaching_group.add_users(['publisher1', 'publisher2', 'demo_user1'])"
   ]
  },
  {
   "cell_type": "code",
   "execution_count": 58,
   "metadata": {},
   "outputs": [
    {
     "data": {
      "text/plain": [
       "{'notRemoved': ['demo_user1']}"
      ]
     },
     "execution_count": 58,
     "metadata": {},
     "output_type": "execute_result"
    }
   ],
   "source": [
    "# remove the demo_user1 account wrongly added to this group\n",
    "geocaching_group.remove_users(['demo_user1'])"
   ]
  },
  {
   "cell_type": "code",
   "execution_count": 59,
   "metadata": {},
   "outputs": [
    {
     "data": {
      "text/plain": [
       "{'notRemoved': ['arcgis_python_api']}"
      ]
     },
     "execution_count": 59,
     "metadata": {},
     "output_type": "execute_result"
    }
   ],
   "source": [
    "# can you remove the owner of the group?\n",
    "geocaching_group.remove_users(['arcgis_python_api'])"
   ]
  },
  {
   "cell_type": "markdown",
   "metadata": {},
   "source": [
    "## Listing users belonging to a group¶\n"
   ]
  },
  {
   "cell_type": "code",
   "execution_count": 60,
   "metadata": {},
   "outputs": [
    {
     "data": {
      "text/plain": [
       "{'owner': 'arcgis_python', 'admins': ['arcgis_python'], 'users': []}"
      ]
     },
     "execution_count": 60,
     "metadata": {},
     "output_type": "execute_result"
    }
   ],
   "source": [
    "geocaching_group.get_members()\n"
   ]
  },
  {
   "cell_type": "code",
   "execution_count": null,
   "metadata": {},
   "outputs": [],
   "source": []
  }
 ],
 "metadata": {
  "kernelspec": {
   "display_name": "Python 3",
   "language": "python",
   "name": "python3"
  },
  "language_info": {
   "codemirror_mode": {
    "name": "ipython",
    "version": 3
   },
   "file_extension": ".py",
   "mimetype": "text/x-python",
   "name": "python",
   "nbconvert_exporter": "python",
   "pygments_lexer": "ipython3",
   "version": "3.6.5"
  }
 },
 "nbformat": 4,
 "nbformat_minor": 2
}
