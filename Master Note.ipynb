{
 "cells": [
  {
   "cell_type": "markdown",
   "metadata": {},
   "source": [
    "# Import"
   ]
  },
  {
   "cell_type": "code",
   "execution_count": 2,
   "metadata": {},
   "outputs": [],
   "source": [
    "# Import\n",
    "from arcgis.gis import GIS\n",
    "# logins:\n",
    "#  when you don't provide passowrd after user name, it will ask user to type in  password\n",
    "apl = GIS(url=\"https://python.playground.esri.com/portal\",username='arcgis_python', password='amazing_arcgis_123', profile='python_playground_prof')\n",
    "aol = GIS(url=\"https://arcgis.com/\", username='arcgis_python', password=\"P@ssword123\",)\n",
    "apa = GIS(\"https://python.playground.esri.com/portal\")\n",
    "aoa = GIS()\n"
   ]
  },
  {
   "cell_type": "code",
   "execution_count": null,
   "metadata": {},
   "outputs": [],
   "source": [
    "#Connecting through ArcGIS Pro(not working , need arcpy)\n",
    "print(\"Active Portal in ArcGIS Pro\")  \n",
    "pro = GIS(\"pro\")\n"
   ]
  },
  {
   "cell_type": "markdown",
   "metadata": {},
   "source": [
    "# Basic get user,define and search and display"
   ]
  },
  {
   "cell_type": "code",
   "execution_count": null,
   "metadata": {},
   "outputs": [],
   "source": [
    "# basic get user,define and search and display\n",
    "user=apl.users.get('john.smith')\n",
    "\n",
    "map1 = apl.map(\"Palm Springs,CA\")\n",
    "\n",
    "Search_Result = apl.content.search('Palm Springs Trails')\n",
    "\n",
    "from IPython.display import display\n",
    "for item in Search_Result:\n",
    "    if item.title.find(\"Palm Springs\"):\n",
    "        display(item)"
   ]
  },
  {
   "cell_type": "markdown",
   "metadata": {},
   "source": [
    "# Define Profiles for quick longin\n"
   ]
  },
  {
   "cell_type": "code",
   "execution_count": null,
   "metadata": {},
   "outputs": [],
   "source": [
    "#Define Profiles for quick longin\n",
    "playground_gis = GIS(url=\"https://python.playground.esri.com/portal\", username='arcgis_python', \n",
    "                     password='amazing_arcgis_123',profile='python_playground_prof')\n",
    "agol_gis = GIS(url=\"https://arcgis.com/\", username='arcgis_python', password=\"P@ssword123\",\n",
    "    profile=\"AGOL_prof\")\n",
    "\n",
    "#Once you define it, you and use it to login like this.\n",
    "\n",
    "playground_gis = GIS(profile='python_playground_prof')\n",
    "agol_gis = GIS(profile=\"AGOL_prof\")"
   ]
  },
  {
   "cell_type": "markdown",
   "metadata": {},
   "source": [
    "# Search, Display, Define Item, get item by ID\n"
   ]
  },
  {
   "cell_type": "code",
   "execution_count": null,
   "metadata": {},
   "outputs": [],
   "source": [
    "# Search, Display, Define Item, get item by ID\n",
    "search_result_USA = apl.content.search(query=\"title:USA*\",item_type=\"feature\")\n",
    "\n",
    "from IPython.display import display\n",
    "for item in search_result_USA:\n",
    "    display(item)\n",
    "    item.id\n",
    "\n",
    "first_item = search_result_USA[0]\n",
    "\n",
    "second_item = apl.content.get(first_item.id)"
   ]
  },
  {
   "cell_type": "markdown",
   "metadata": {},
   "source": [
    "# Searching for content outside your organization\n"
   ]
  },
  {
   "cell_type": "code",
   "execution_count": null,
   "metadata": {},
   "outputs": [],
   "source": [
    "# Searching for content outside your organization\n",
    "Search_Result = aol.content.search(query=\"3d cities\", item_type = \"web scene\",\n",
    "                                           sort_field=\"numViews\" ,sort_order=\"asc\",\n",
    "                                           max_items = 15, outside_org=True)"
   ]
  },
  {
   "cell_type": "markdown",
   "metadata": {},
   "source": [
    "# Upload csv to ArcPortal, then Publish as Layer\n"
   ]
  },
  {
   "cell_type": "code",
   "execution_count": 42,
   "metadata": {},
   "outputs": [
    {
     "data": {
      "text/html": [
       "<div class=\"item_container\" style=\"height: auto; overflow: hidden; border: 1px solid #cfcfcf; border-radius: 2px; background: #f6fafa; line-height: 1.21429em; padding: 10px;\">\n",
       "                    <div class=\"item_left\" style=\"width: 210px; float: left;\">\n",
       "                       <a href='https://python.playground.esri.com/portal/home/item.html?id=c2af5ef3e9ac4207ab3cb7366db7cfd1' target='_blank'>\n",
       "                        <img src='https://python.playground.esri.com/portal/portalimages/desktopapp.png' class=\"itemThumbnail\">\n",
       "                       </a>\n",
       "                    </div>\n",
       "\n",
       "                    <div class=\"item_right\"     style=\"float: none; width: auto; overflow: hidden;\">\n",
       "                        <a href='https://python.playground.esri.com/portal/home/item.html?id=c2af5ef3e9ac4207ab3cb7366db7cfd1' target='_blank'><b>U.S. Postal Point</b>\n",
       "                        </a>\n",
       "                        <br/><img src='https://python.playground.esri.com/portal/home/js/jsapi/esri/css/images/item_type_icons/featureshosted16.png' style=\"vertical-align:middle;\">Feature Layer Collection by arcgis_python\n",
       "                        <br/>Last Modified: July 30, 2018\n",
       "                        <br/>0 comments, 0 views\n",
       "                    </div>\n",
       "                </div>\n",
       "                "
      ],
      "text/plain": [
       "<Item title:\"U.S. Postal Point\" type:Feature Layer Collection owner:arcgis_python>"
      ]
     },
     "execution_count": 42,
     "metadata": {},
     "output_type": "execute_result"
    },
    {
     "name": "stderr",
     "output_type": "stream",
     "text": [
      "C:\\Users\\jeng430\\AppData\\Local\\Continuum\\anaconda3\\lib\\site-packages\\IPython\\core\\interactiveshell.py:2785: DtypeWarning: Columns (11) have mixed types. Specify dtype option on import or set low_memory=False.\n",
      "  interactivity=interactivity, compiler=compiler, result=result)\n"
     ]
    },
    {
     "data": {
      "text/html": [
       "<div>\n",
       "<style scoped>\n",
       "    .dataframe tbody tr th:only-of-type {\n",
       "        vertical-align: middle;\n",
       "    }\n",
       "\n",
       "    .dataframe tbody tr th {\n",
       "        vertical-align: top;\n",
       "    }\n",
       "\n",
       "    .dataframe thead th {\n",
       "        text-align: right;\n",
       "    }\n",
       "</style>\n",
       "<table border=\"1\" class=\"dataframe\">\n",
       "  <thead>\n",
       "    <tr style=\"text-align: right;\">\n",
       "      <th></th>\n",
       "      <th>RecordNumber</th>\n",
       "      <th>Zipcode</th>\n",
       "      <th>ZipCodeType</th>\n",
       "      <th>City</th>\n",
       "      <th>State</th>\n",
       "      <th>LocationType</th>\n",
       "      <th>Lat</th>\n",
       "      <th>Long</th>\n",
       "      <th>Xaxis</th>\n",
       "      <th>Yaxis</th>\n",
       "      <th>Zaxis</th>\n",
       "      <th>WorldRegion</th>\n",
       "      <th>Country</th>\n",
       "      <th>LocationText</th>\n",
       "      <th>Location</th>\n",
       "      <th>Decommisioned</th>\n",
       "      <th>TaxReturnsFiled</th>\n",
       "      <th>EstimatedPopulation</th>\n",
       "      <th>TotalWages</th>\n",
       "      <th>Notes</th>\n",
       "    </tr>\n",
       "  </thead>\n",
       "  <tbody>\n",
       "    <tr>\n",
       "      <th>0</th>\n",
       "      <td>1</td>\n",
       "      <td>704</td>\n",
       "      <td>STANDARD</td>\n",
       "      <td>PARC PARQUE</td>\n",
       "      <td>PR</td>\n",
       "      <td>NOT ACCEPTABLE</td>\n",
       "      <td>17.96</td>\n",
       "      <td>-66.22</td>\n",
       "      <td>0.38</td>\n",
       "      <td>-0.87</td>\n",
       "      <td>0.30</td>\n",
       "      <td>NaN</td>\n",
       "      <td>US</td>\n",
       "      <td>Parc Parque, PR</td>\n",
       "      <td>NA-US-PR-PARC PARQUE</td>\n",
       "      <td>False</td>\n",
       "      <td>NaN</td>\n",
       "      <td>NaN</td>\n",
       "      <td>NaN</td>\n",
       "      <td>NaN</td>\n",
       "    </tr>\n",
       "    <tr>\n",
       "      <th>1</th>\n",
       "      <td>2</td>\n",
       "      <td>704</td>\n",
       "      <td>STANDARD</td>\n",
       "      <td>PASEO COSTA DEL SUR</td>\n",
       "      <td>PR</td>\n",
       "      <td>NOT ACCEPTABLE</td>\n",
       "      <td>17.96</td>\n",
       "      <td>-66.22</td>\n",
       "      <td>0.38</td>\n",
       "      <td>-0.87</td>\n",
       "      <td>0.30</td>\n",
       "      <td>NaN</td>\n",
       "      <td>US</td>\n",
       "      <td>Paseo Costa Del Sur, PR</td>\n",
       "      <td>NA-US-PR-PASEO COSTA DEL SUR</td>\n",
       "      <td>False</td>\n",
       "      <td>NaN</td>\n",
       "      <td>NaN</td>\n",
       "      <td>NaN</td>\n",
       "      <td>NaN</td>\n",
       "    </tr>\n",
       "    <tr>\n",
       "      <th>2</th>\n",
       "      <td>3</td>\n",
       "      <td>704</td>\n",
       "      <td>STANDARD</td>\n",
       "      <td>SECT LANAUSSE</td>\n",
       "      <td>PR</td>\n",
       "      <td>NOT ACCEPTABLE</td>\n",
       "      <td>17.96</td>\n",
       "      <td>-66.22</td>\n",
       "      <td>0.38</td>\n",
       "      <td>-0.87</td>\n",
       "      <td>0.30</td>\n",
       "      <td>NaN</td>\n",
       "      <td>US</td>\n",
       "      <td>Sect Lanausse, PR</td>\n",
       "      <td>NA-US-PR-SECT LANAUSSE</td>\n",
       "      <td>False</td>\n",
       "      <td>NaN</td>\n",
       "      <td>NaN</td>\n",
       "      <td>NaN</td>\n",
       "      <td>NaN</td>\n",
       "    </tr>\n",
       "    <tr>\n",
       "      <th>3</th>\n",
       "      <td>4</td>\n",
       "      <td>704</td>\n",
       "      <td>STANDARD</td>\n",
       "      <td>URB EUGENE RICE</td>\n",
       "      <td>PR</td>\n",
       "      <td>NOT ACCEPTABLE</td>\n",
       "      <td>17.96</td>\n",
       "      <td>-66.22</td>\n",
       "      <td>0.38</td>\n",
       "      <td>-0.87</td>\n",
       "      <td>0.30</td>\n",
       "      <td>NaN</td>\n",
       "      <td>US</td>\n",
       "      <td>Urb Eugene Rice, PR</td>\n",
       "      <td>NA-US-PR-URB EUGENE RICE</td>\n",
       "      <td>False</td>\n",
       "      <td>NaN</td>\n",
       "      <td>NaN</td>\n",
       "      <td>NaN</td>\n",
       "      <td>NaN</td>\n",
       "    </tr>\n",
       "    <tr>\n",
       "      <th>4</th>\n",
       "      <td>5</td>\n",
       "      <td>704</td>\n",
       "      <td>STANDARD</td>\n",
       "      <td>URB GONZALEZ</td>\n",
       "      <td>PR</td>\n",
       "      <td>NOT ACCEPTABLE</td>\n",
       "      <td>17.96</td>\n",
       "      <td>-66.22</td>\n",
       "      <td>0.38</td>\n",
       "      <td>-0.87</td>\n",
       "      <td>0.30</td>\n",
       "      <td>NaN</td>\n",
       "      <td>US</td>\n",
       "      <td>Urb Gonzalez, PR</td>\n",
       "      <td>NA-US-PR-URB GONZALEZ</td>\n",
       "      <td>False</td>\n",
       "      <td>NaN</td>\n",
       "      <td>NaN</td>\n",
       "      <td>NaN</td>\n",
       "      <td>NaN</td>\n",
       "    </tr>\n",
       "    <tr>\n",
       "      <th>5</th>\n",
       "      <td>6</td>\n",
       "      <td>704</td>\n",
       "      <td>STANDARD</td>\n",
       "      <td>URB LA FABRICA</td>\n",
       "      <td>PR</td>\n",
       "      <td>NOT ACCEPTABLE</td>\n",
       "      <td>17.96</td>\n",
       "      <td>-66.22</td>\n",
       "      <td>0.38</td>\n",
       "      <td>-0.87</td>\n",
       "      <td>0.30</td>\n",
       "      <td>NaN</td>\n",
       "      <td>US</td>\n",
       "      <td>Urb La Fabrica, PR</td>\n",
       "      <td>NA-US-PR-URB LA FABRICA</td>\n",
       "      <td>False</td>\n",
       "      <td>NaN</td>\n",
       "      <td>NaN</td>\n",
       "      <td>NaN</td>\n",
       "      <td>NaN</td>\n",
       "    </tr>\n",
       "    <tr>\n",
       "      <th>6</th>\n",
       "      <td>7</td>\n",
       "      <td>704</td>\n",
       "      <td>STANDARD</td>\n",
       "      <td>URB MONTE SORIA 2</td>\n",
       "      <td>PR</td>\n",
       "      <td>NOT ACCEPTABLE</td>\n",
       "      <td>17.96</td>\n",
       "      <td>-66.22</td>\n",
       "      <td>0.38</td>\n",
       "      <td>-0.87</td>\n",
       "      <td>0.30</td>\n",
       "      <td>NaN</td>\n",
       "      <td>US</td>\n",
       "      <td>Urb Monte Soria 2, PR</td>\n",
       "      <td>NA-US-PR-URB MONTE SORIA 2</td>\n",
       "      <td>False</td>\n",
       "      <td>NaN</td>\n",
       "      <td>NaN</td>\n",
       "      <td>NaN</td>\n",
       "      <td>NaN</td>\n",
       "    </tr>\n",
       "    <tr>\n",
       "      <th>7</th>\n",
       "      <td>8</td>\n",
       "      <td>704</td>\n",
       "      <td>STANDARD</td>\n",
       "      <td>VILLAS DEL COQUI</td>\n",
       "      <td>PR</td>\n",
       "      <td>NOT ACCEPTABLE</td>\n",
       "      <td>17.96</td>\n",
       "      <td>-66.22</td>\n",
       "      <td>0.38</td>\n",
       "      <td>-0.87</td>\n",
       "      <td>0.30</td>\n",
       "      <td>NaN</td>\n",
       "      <td>US</td>\n",
       "      <td>Villas Del Coqui, PR</td>\n",
       "      <td>NA-US-PR-VILLAS DEL COQUI</td>\n",
       "      <td>False</td>\n",
       "      <td>NaN</td>\n",
       "      <td>NaN</td>\n",
       "      <td>NaN</td>\n",
       "      <td>NaN</td>\n",
       "    </tr>\n",
       "    <tr>\n",
       "      <th>8</th>\n",
       "      <td>9</td>\n",
       "      <td>705</td>\n",
       "      <td>STANDARD</td>\n",
       "      <td>AIBONITO</td>\n",
       "      <td>PR</td>\n",
       "      <td>PRIMARY</td>\n",
       "      <td>18.14</td>\n",
       "      <td>-66.26</td>\n",
       "      <td>0.38</td>\n",
       "      <td>-0.86</td>\n",
       "      <td>0.31</td>\n",
       "      <td>NaN</td>\n",
       "      <td>US</td>\n",
       "      <td>Aibonito, PR</td>\n",
       "      <td>NA-US-PR-AIBONITO</td>\n",
       "      <td>False</td>\n",
       "      <td>NaN</td>\n",
       "      <td>NaN</td>\n",
       "      <td>NaN</td>\n",
       "      <td>NaN</td>\n",
       "    </tr>\n",
       "    <tr>\n",
       "      <th>9</th>\n",
       "      <td>10</td>\n",
       "      <td>705</td>\n",
       "      <td>STANDARD</td>\n",
       "      <td>BDA SAN LUIS</td>\n",
       "      <td>PR</td>\n",
       "      <td>NOT ACCEPTABLE</td>\n",
       "      <td>18.14</td>\n",
       "      <td>-66.26</td>\n",
       "      <td>0.38</td>\n",
       "      <td>-0.86</td>\n",
       "      <td>0.31</td>\n",
       "      <td>NaN</td>\n",
       "      <td>US</td>\n",
       "      <td>Bda San Luis, PR</td>\n",
       "      <td>NA-US-PR-BDA SAN LUIS</td>\n",
       "      <td>False</td>\n",
       "      <td>NaN</td>\n",
       "      <td>NaN</td>\n",
       "      <td>NaN</td>\n",
       "      <td>NaN</td>\n",
       "    </tr>\n",
       "  </tbody>\n",
       "</table>\n",
       "</div>"
      ],
      "text/plain": [
       "   RecordNumber  Zipcode ZipCodeType                 City State  \\\n",
       "0             1      704    STANDARD          PARC PARQUE    PR   \n",
       "1             2      704    STANDARD  PASEO COSTA DEL SUR    PR   \n",
       "2             3      704    STANDARD        SECT LANAUSSE    PR   \n",
       "3             4      704    STANDARD      URB EUGENE RICE    PR   \n",
       "4             5      704    STANDARD         URB GONZALEZ    PR   \n",
       "5             6      704    STANDARD       URB LA FABRICA    PR   \n",
       "6             7      704    STANDARD    URB MONTE SORIA 2    PR   \n",
       "7             8      704    STANDARD     VILLAS DEL COQUI    PR   \n",
       "8             9      705    STANDARD             AIBONITO    PR   \n",
       "9            10      705    STANDARD         BDA SAN LUIS    PR   \n",
       "\n",
       "     LocationType    Lat   Long  Xaxis  Yaxis  Zaxis WorldRegion Country  \\\n",
       "0  NOT ACCEPTABLE  17.96 -66.22   0.38  -0.87   0.30         NaN      US   \n",
       "1  NOT ACCEPTABLE  17.96 -66.22   0.38  -0.87   0.30         NaN      US   \n",
       "2  NOT ACCEPTABLE  17.96 -66.22   0.38  -0.87   0.30         NaN      US   \n",
       "3  NOT ACCEPTABLE  17.96 -66.22   0.38  -0.87   0.30         NaN      US   \n",
       "4  NOT ACCEPTABLE  17.96 -66.22   0.38  -0.87   0.30         NaN      US   \n",
       "5  NOT ACCEPTABLE  17.96 -66.22   0.38  -0.87   0.30         NaN      US   \n",
       "6  NOT ACCEPTABLE  17.96 -66.22   0.38  -0.87   0.30         NaN      US   \n",
       "7  NOT ACCEPTABLE  17.96 -66.22   0.38  -0.87   0.30         NaN      US   \n",
       "8         PRIMARY  18.14 -66.26   0.38  -0.86   0.31         NaN      US   \n",
       "9  NOT ACCEPTABLE  18.14 -66.26   0.38  -0.86   0.31         NaN      US   \n",
       "\n",
       "              LocationText                      Location  Decommisioned  \\\n",
       "0          Parc Parque, PR          NA-US-PR-PARC PARQUE          False   \n",
       "1  Paseo Costa Del Sur, PR  NA-US-PR-PASEO COSTA DEL SUR          False   \n",
       "2        Sect Lanausse, PR        NA-US-PR-SECT LANAUSSE          False   \n",
       "3      Urb Eugene Rice, PR      NA-US-PR-URB EUGENE RICE          False   \n",
       "4         Urb Gonzalez, PR         NA-US-PR-URB GONZALEZ          False   \n",
       "5       Urb La Fabrica, PR       NA-US-PR-URB LA FABRICA          False   \n",
       "6    Urb Monte Soria 2, PR    NA-US-PR-URB MONTE SORIA 2          False   \n",
       "7     Villas Del Coqui, PR     NA-US-PR-VILLAS DEL COQUI          False   \n",
       "8             Aibonito, PR             NA-US-PR-AIBONITO          False   \n",
       "9         Bda San Luis, PR         NA-US-PR-BDA SAN LUIS          False   \n",
       "\n",
       "   TaxReturnsFiled  EstimatedPopulation  TotalWages Notes  \n",
       "0              NaN                  NaN         NaN   NaN  \n",
       "1              NaN                  NaN         NaN   NaN  \n",
       "2              NaN                  NaN         NaN   NaN  \n",
       "3              NaN                  NaN         NaN   NaN  \n",
       "4              NaN                  NaN         NaN   NaN  \n",
       "5              NaN                  NaN         NaN   NaN  \n",
       "6              NaN                  NaN         NaN   NaN  \n",
       "7              NaN                  NaN         NaN   NaN  \n",
       "8              NaN                  NaN         NaN   NaN  \n",
       "9              NaN                  NaN         NaN   NaN  "
      ]
     },
     "execution_count": 42,
     "metadata": {},
     "output_type": "execute_result"
    }
   ],
   "source": [
    "# upload csv to ArcPortal,\n",
    "csv_path = r\"C:\\Users\\jeng430\\JENG430\\Work\\Project Request\\2018\\Pedro ZipCenLatLon\\free-zipcode-database.csv\"\n",
    "\n",
    "# add propoty before make it a layer\n",
    "csv_properties={'title':'U.S. Postal Point',\n",
    "                'description':'5 digit ZIP Postal Point in USA with ',\n",
    "                'tags':'arcgis, zip code, postal'}\n",
    "zip_csv_item = apl.content.add(item_properties=csv_properties, data=csv_path)\n",
    "#publish an item as a web layer:\n",
    "zip_layer=zip_csv_item.publish()\n",
    "zip_layer\n",
    "\n"
   ]
  },
  {
   "cell_type": "code",
   "execution_count": 40,
   "metadata": {},
   "outputs": [
    {
     "data": {
      "text/plain": [
       "{'success': True}"
      ]
     },
     "execution_count": 40,
     "metadata": {},
     "output_type": "execute_result"
    },
    {
     "data": {
      "text/plain": [
       "True"
      ]
     },
     "execution_count": 40,
     "metadata": {},
     "output_type": "execute_result"
    }
   ],
   "source": [
    "# if item left from last run , run this to deleted first.\n",
    "ditems=apl.content.search('U.S. Postal Point')\n",
    "ditem=apl.content.get(ditems[0].id)\n",
    "ditem.protect(enable = False)\n",
    "ditem.delete()\n",
    "\n",
    "\n"
   ]
  },
  {
   "cell_type": "markdown",
   "metadata": {},
   "source": [
    "# Importing data from a pandas data frame, \n",
    "# and convert the feature collection to a JSON \n",
    "# and add it as a text based item to the GIS potal as an item."
   ]
  },
  {
   "cell_type": "code",
   "execution_count": 48,
   "metadata": {},
   "outputs": [
    {
     "name": "stdout",
     "output_type": "stream",
     "text": [
      "bentonvile postal point: \n"
     ]
    },
    {
     "data": {
      "text/plain": [
       "25612    38.75\n",
       "57557    36.36\n",
       "57561    36.36\n",
       "64571    39.75\n",
       "75025    38.83\n",
       "Name: Lat, dtype: float64"
      ]
     },
     "execution_count": 48,
     "metadata": {},
     "output_type": "execute_result"
    },
    {
     "data": {
      "text/plain": [
       "25612   -83.62\n",
       "57557   -94.20\n",
       "57561   -94.20\n",
       "64571   -85.24\n",
       "75025   -78.31\n",
       "Name: Long, dtype: float64"
      ]
     },
     "execution_count": 48,
     "metadata": {},
     "output_type": "execute_result"
    },
    {
     "data": {
      "text/plain": [
       "<FeatureCollection>"
      ]
     },
     "execution_count": 48,
     "metadata": {},
     "output_type": "execute_result"
    },
    {
     "data": {
      "text/html": [
       "<div class=\"item_container\" style=\"height: auto; overflow: hidden; border: 1px solid #cfcfcf; border-radius: 2px; background: #f6fafa; line-height: 1.21429em; padding: 10px;\">\n",
       "                    <div class=\"item_left\" style=\"width: 210px; float: left;\">\n",
       "                       <a href='https://python.playground.esri.com/portal/home/item.html?id=a9d45f6217df4d4291d79c20b0efc830' target='_blank'>\n",
       "                        <img src='https://python.playground.esri.com/portal/portalimages/desktopapp.png' class=\"itemThumbnail\">\n",
       "                       </a>\n",
       "                    </div>\n",
       "\n",
       "                    <div class=\"item_right\"     style=\"float: none; width: auto; overflow: hidden;\">\n",
       "                        <a href='https://python.playground.esri.com/portal/home/item.html?id=a9d45f6217df4d4291d79c20b0efc830' target='_blank'><b>Ports to the south of SFO along west coast of USA</b>\n",
       "                        </a>\n",
       "                        <br/><img src='https://python.playground.esri.com/portal/home/js/jsapi/esri/css/images/item_type_icons/features16.png' style=\"vertical-align:middle;\">Feature Collection by arcgis_python\n",
       "                        <br/>Last Modified: July 30, 2018\n",
       "                        <br/>0 comments, 0 views\n",
       "                    </div>\n",
       "                </div>\n",
       "                "
      ],
      "text/plain": [
       "<Item title:\"Ports to the south of SFO along west coast of USA\" type:Feature Collection owner:arcgis_python>"
      ]
     },
     "execution_count": 48,
     "metadata": {},
     "output_type": "execute_result"
    }
   ],
   "source": [
    "# Importing data from a pandas data frame, \n",
    "# and convert the feature collection to a JSON \n",
    "# and add it as a text based item to the GIS potal as an item.\n",
    "\n",
    "# read csv as a pandas dataframe\n",
    "import pandas\n",
    "postal_df = pandas.read_csv(csv_path)\n",
    "postal_df.head(10)\n",
    "#First, find latitude of Bentonville\n",
    "lat = postal_df.loc[postal_df.City == 'BENTONVILLE']['Lat']\n",
    "long = postal_df.loc[postal_df.City == 'BENTONVILLE']['Long']\n",
    "print (\"bentonvile postal point: \")\n",
    "lat  \n",
    "long\n",
    "# show bentonville point only\n",
    "benton_post=postal_df.loc[postal_df.City == 'BENTONVILLE']\n",
    "# add it into a Gis portal\n",
    "postal_fc = apl.content.import_data(benton_post)\n",
    "postal_fc\n",
    "#  convert the feature collection to a JSON \n",
    "import json\n",
    "postal_fc_dict = dict(postal_fc.properties)\n",
    "#and add it as a text based item to the GIS\n",
    "postal_json = json.dumps(postal_fc_dict)\n",
    "\n",
    "postal_item_properties = {'title': 'Ports to the south of SFO along west coast of USA',\n",
    "                        'description':'Example demonstrating conversion of pandas ' + \\\n",
    "                         'dataframe object to a GIS item',\n",
    "                        'tags': 'arcgis python api, pandas, csv',\n",
    "                        'text':postal_json,\n",
    "                        'type':'Feature Collection'}\n",
    "postal_item = apl.content.add(postal_item_properties)\n",
    "postal_item"
   ]
  },
  {
   "cell_type": "markdown",
   "metadata": {},
   "source": [
    "# Publishing an empty service\n"
   ]
  },
  {
   "cell_type": "code",
   "execution_count": 50,
   "metadata": {},
   "outputs": [
    {
     "data": {
      "text/plain": [
       "True"
      ]
     },
     "execution_count": 50,
     "metadata": {},
     "output_type": "execute_result"
    },
    {
     "data": {
      "text/html": [
       "<div class=\"item_container\" style=\"height: auto; overflow: hidden; border: 1px solid #cfcfcf; border-radius: 2px; background: #f6fafa; line-height: 1.21429em; padding: 10px;\">\n",
       "                    <div class=\"item_left\" style=\"width: 210px; float: left;\">\n",
       "                       <a href='https://python.playground.esri.com/portal/home/item.html?id=8410cc462cf64505a683279ef27a958f' target='_blank'>\n",
       "                        <img src='https://python.playground.esri.com/portal/portalimages/desktopapp.png' class=\"itemThumbnail\">\n",
       "                       </a>\n",
       "                    </div>\n",
       "\n",
       "                    <div class=\"item_right\"     style=\"float: none; width: auto; overflow: hidden;\">\n",
       "                        <a href='https://python.playground.esri.com/portal/home/item.html?id=8410cc462cf64505a683279ef27a958f' target='_blank'><b>awesome_python2</b>\n",
       "                        </a>\n",
       "                        <br/><img src='https://python.playground.esri.com/portal/home/js/jsapi/esri/css/images/item_type_icons/featureshosted16.png' style=\"vertical-align:middle;\">Feature Layer Collection by arcgis_python\n",
       "                        <br/>Last Modified: July 30, 2018\n",
       "                        <br/>0 comments, 0 views\n",
       "                    </div>\n",
       "                </div>\n",
       "                "
      ],
      "text/plain": [
       "<Item title:\"awesome_python2\" type:Feature Layer Collection owner:arcgis_python>"
      ]
     },
     "execution_count": 50,
     "metadata": {},
     "output_type": "execute_result"
    },
    {
     "data": {
      "text/plain": [
       "[]"
      ]
     },
     "execution_count": 50,
     "metadata": {},
     "output_type": "execute_result"
    }
   ],
   "source": [
    "#publishing an empty service\n",
    "# check if service name is available# check \n",
    "apl.content.is_service_name_available(service_name= \"awesome_python2\", service_type = 'featureService')\n",
    "# let us publish an empty service\n",
    "empty_service_item = apl.content.create_service(name='awesome_python2', service_type='featureService')\n",
    "empty_service_item\n",
    "# access the layers property of the item\n",
    "empty_service_item.layers"
   ]
  },
  {
   "cell_type": "markdown",
   "metadata": {},
   "source": [
    "# Organizing Content"
   ]
  },
  {
   "cell_type": "code",
   "execution_count": 51,
   "metadata": {},
   "outputs": [
    {
     "name": "stdout",
     "output_type": "stream",
     "text": [
      "Folder already exists.\n"
     ]
    },
    {
     "data": {
      "text/plain": [
       "{'success': True,\n",
       " 'itemId': 'a9d45f6217df4d4291d79c20b0efc830',\n",
       " 'owner': 'arcgis_python',\n",
       " 'folder': 'bacaeb76ea544107b0fdb6c25306acbb'}"
      ]
     },
     "execution_count": 51,
     "metadata": {},
     "output_type": "execute_result"
    },
    {
     "data": {
      "text/plain": [
       "{'success': True,\n",
       " 'itemId': 'a9d45f6217df4d4291d79c20b0efc830',\n",
       " 'owner': 'arcgis_python',\n",
       " 'folder': None}"
      ]
     },
     "execution_count": 51,
     "metadata": {},
     "output_type": "execute_result"
    }
   ],
   "source": [
    "# create new folder\n",
    "apl.content.create_folder(folder= 'Test1')\n",
    "# move the ports_item into this folder\n",
    "postal_item.move(folder= 'Test1')\n",
    "# move back to root\n",
    "postal_item.move(folder='/')"
   ]
  },
  {
   "cell_type": "markdown",
   "metadata": {},
   "source": [
    "# Managing your content"
   ]
  },
  {
   "cell_type": "code",
   "execution_count": null,
   "metadata": {},
   "outputs": [],
   "source": [
    "# get id , tag and update tag\n",
    "#access an Item \n",
    "zip_item = apl.content.get('698624ecea2e4bbe967bd127c88cd538')\n",
    "zip_item\n",
    "zip_item.id\n",
    "# get tags\n",
    "zip_item.tags\n",
    "#update tag\n",
    "zip_item.update(item_properties={'tags':'postal,zip,national'})\n"
   ]
  },
  {
   "cell_type": "code",
   "execution_count": null,
   "metadata": {},
   "outputs": [],
   "source": []
  }
 ],
 "metadata": {
  "kernelspec": {
   "display_name": "Python 3",
   "language": "python",
   "name": "python3"
  },
  "language_info": {
   "codemirror_mode": {
    "name": "ipython",
    "version": 3
   },
   "file_extension": ".py",
   "mimetype": "text/x-python",
   "name": "python",
   "nbconvert_exporter": "python",
   "pygments_lexer": "ipython3",
   "version": "3.6.5"
  }
 },
 "nbformat": 4,
 "nbformat_minor": 2
}
