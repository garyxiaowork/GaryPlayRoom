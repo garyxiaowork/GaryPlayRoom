{
 "cells": [
  {
   "cell_type": "code",
   "execution_count": 1,
   "metadata": {},
   "outputs": [],
   "source": [
    "# Import\n",
    "from arcgis.gis import GIS\n",
    "# logins:\n",
    "#  when you don't provide passowrd after user name, it will ask user to type in  password\n",
    "apl = GIS(url=\"https://python.playground.esri.com/portal\",username='arcgis_python', password='amazing_arcgis_123', profile='python_playground_prof')\n",
    "aol = GIS(url=\"https://arcgis.com/\", username='arcgis_python', password=\"P@ssword123\",)\n",
    "apa = GIS(\"https://python.playground.esri.com/portal\")\n",
    "aoa = GIS()\n",
    "#Connecting through ArcGIS Pro\n",
    "print(\"Active Portal in ArcGIS Pro\")  \n",
    "pro = GIS(\"pro\")\n"
   ]
  },
  {
   "cell_type": "code",
   "execution_count": null,
   "metadata": {},
   "outputs": [],
   "source": [
    "# basic get user,define and search and display\n",
    "user=apl.users.get('john.smith')\n",
    "\n",
    "map1 = apl.map(\"Palm Springs,CA\")\n",
    "\n",
    "Search_Result = apl.content.search('Palm Springs Trails')\n",
    "\n",
    "from IPython.display import display\n",
    "for item in Search_Result:\n",
    "    if item.title.find(\"Palm Springs\"):\n",
    "        display(item)"
   ]
  },
  {
   "cell_type": "code",
   "execution_count": null,
   "metadata": {},
   "outputs": [],
   "source": [
    "#Define Profiles for quick longin\n",
    "playground_gis = GIS(url=\"https://python.playground.esri.com/portal\", username='arcgis_python', \n",
    "                     password='amazing_arcgis_123',profile='python_playground_prof')\n",
    "agol_gis = GIS(url=\"https://arcgis.com/\", username='arcgis_python', password=\"P@ssword123\",\n",
    "    profile=\"AGOL_prof\")\n",
    "\n",
    "#Once you define it, you and use it to login like this.\n",
    "\n",
    "playground_gis = GIS(profile='python_playground_prof')\n",
    "agol_gis = GIS(profile=\"AGOL_prof\")"
   ]
  },
  {
   "cell_type": "code",
   "execution_count": null,
   "metadata": {},
   "outputs": [],
   "source": [
    "# Search, Display, Define Item, get item by ID\n",
    "search_result_USA = apl.content.search(query=\"title:USA*\",item_type=\"feature\")\n",
    "\n",
    "from IPython.display import display\n",
    "for item in search_result_USA:\n",
    "    display(item)\n",
    "    item.id\n",
    "\n",
    "first_item = search_result_USA[0]\n",
    "\n",
    "second_item = apl.content.get(first_item.id)"
   ]
  },
  {
   "cell_type": "code",
   "execution_count": null,
   "metadata": {},
   "outputs": [],
   "source": [
    "# Searching for content outside your organization\n",
    "Search_Result = aol.content.search(query=\"3d cities\", item_type = \"web scene\",\n",
    "                                           sort_field=\"numViews\" ,sort_order=\"asc\",\n",
    "                                           max_items = 15, outside_org=True)"
   ]
  },
  {
   "cell_type": "code",
   "execution_count": null,
   "metadata": {},
   "outputs": [],
   "source": [
    "# upload csv to ArcPortal\n",
    "csv_path = r\"C:\\Users\\jeng430\\OneDrive - J.B. Hunt Transport\\Work\\Project Request\\2018\\Pedro ZipCenLatLon\\free-zipcode-database.csv\"\n",
    "csv_properties={'title':'U.S. Postal Point',\n",
    "                'description':'5 digit ZIP Postal Point in USA with ',\n",
    "                'tags':'arcgis, zip code, postal'}\n",
    "zip_csv_item = apl.content.add(item_properties=csv_properties, data=csv_path)\n"
   ]
  },
  {
   "cell_type": "code",
   "execution_count": null,
   "metadata": {},
   "outputs": [],
   "source": [
    "\n",
    "\n",
    "\n",
    "\n",
    "\n",
    "\n",
    "\n",
    "\n",
    "\n",
    "\n",
    "\n",
    "\n",
    "\n",
    "\n",
    "\n",
    "\n",
    "\n",
    "\n",
    "\n",
    "\n",
    "\n"
   ]
  }
 ],
 "metadata": {
  "kernelspec": {
   "display_name": "Python 3",
   "language": "python",
   "name": "python3"
  },
  "language_info": {
   "codemirror_mode": {
    "name": "ipython",
    "version": 3
   },
   "file_extension": ".py",
   "mimetype": "text/x-python",
   "name": "python",
   "nbconvert_exporter": "python",
   "pygments_lexer": "ipython3",
   "version": "3.6.5"
  }
 },
 "nbformat": 4,
 "nbformat_minor": 2
}
