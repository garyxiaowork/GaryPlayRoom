{
 "cells": [
  {
   "cell_type": "markdown",
   "metadata": {},
   "source": [
    "# Basic\n"
   ]
  },
  {
   "cell_type": "code",
   "execution_count": 2,
   "metadata": {},
   "outputs": [],
   "source": [
    "from arcgis.gis import GIS\n"
   ]
  },
  {
   "cell_type": "code",
   "execution_count": 3,
   "metadata": {},
   "outputs": [],
   "source": [
    "gis = GIS(\"https://www.arcgis.com\", \"arcgis_python\", \"P@ssword123\")\n"
   ]
  },
  {
   "cell_type": "code",
   "execution_count": 4,
   "metadata": {},
   "outputs": [],
   "source": [
    "gis = GIS()"
   ]
  },
  {
   "cell_type": "code",
   "execution_count": 5,
   "metadata": {},
   "outputs": [],
   "source": [
    "gis?"
   ]
  },
  {
   "cell_type": "code",
   "execution_count": 6,
   "metadata": {},
   "outputs": [
    {
     "ename": "SyntaxError",
     "evalue": "invalid syntax (<ipython-input-6-1b750208a0c8>, line 1)",
     "output_type": "error",
     "traceback": [
      "\u001b[1;36m  File \u001b[1;32m\"<ipython-input-6-1b750208a0c8>\"\u001b[1;36m, line \u001b[1;32m1\u001b[0m\n\u001b[1;33m    gis.\u001b[0m\n\u001b[1;37m        ^\u001b[0m\n\u001b[1;31mSyntaxError\u001b[0m\u001b[1;31m:\u001b[0m invalid syntax\n"
     ]
    }
   ],
   "source": [
    "gis."
   ]
  },
  {
   "cell_type": "code",
   "execution_count": null,
   "metadata": {},
   "outputs": [],
   "source": [
    "user=gis.users.get('john.smith')\n",
    "user"
   ]
  },
  {
   "cell_type": "code",
   "execution_count": null,
   "metadata": {},
   "outputs": [],
   "source": [
    "user['firstName']"
   ]
  },
  {
   "cell_type": "code",
   "execution_count": null,
   "metadata": {},
   "outputs": [],
   "source": [
    "user.lastName\n",
    "user.firstName\n"
   ]
  },
  {
   "cell_type": "code",
   "execution_count": null,
   "metadata": {},
   "outputs": [],
   "source": [
    "map1 = gis.map(\"Palm Springs,CA\")\n",
    "\n",
    "map1"
   ]
  },
  {
   "cell_type": "code",
   "execution_count": null,
   "metadata": {},
   "outputs": [],
   "source": [
    "from IPython.display import display\n",
    "\n",
    "items = gis.content.search('Palm Springs Trails')\n",
    "\n",
    "for item in items:\n",
    "    if item.title.find(\"Palm Springs\"):\n",
    "        display(item)"
   ]
  },
  {
   "cell_type": "code",
   "execution_count": null,
   "metadata": {},
   "outputs": [],
   "source": [
    "# Let us filter out the item with title 'Trails' that we want to add\n",
    "\n",
    "map1.add_layer(items[1-9])\n",
    "\n",
    "map1"
   ]
  },
  {
   "cell_type": "markdown",
   "metadata": {},
   "source": [
    "# Authentication schemes\n"
   ]
  },
  {
   "cell_type": "code",
   "execution_count": null,
   "metadata": {},
   "outputs": [],
   "source": [
    "# import the GIS class in gis module# impor \n",
    "from arcgis.gis import GIS\n",
    "# anonymous user to ArcGIS Online\n",
    "print(\"ArcGIS Online as anonymous user\")    \n",
    "gis = GIS()\n",
    "print(\"Logged in as anonymous user to \" + gis.properties.portalName)\n",
    "# anonymous user to portal\n",
    "gis = GIS(\"https://python.playground.esri.com/portal\")\n",
    "print(\"Logged in as anonymous user to \" + gis.properties.portalName)\n"
   ]
  },
  {
   "cell_type": "code",
   "execution_count": null,
   "metadata": {},
   "outputs": [],
   "source": [
    "#Connect to ArcGIS Online using a built-in account\n",
    "print(\"ArcGIS Online Org account\")    \n",
    "gis = GIS(\"https://www.arcgis.com\", \"arcgis_python\", \"P@ssword123\")\n",
    "print(\"Logged in as \" + str(gis.properties.user.username))"
   ]
  },
  {
   "cell_type": "code",
   "execution_count": null,
   "metadata": {},
   "outputs": [],
   "source": [
    "#Connecting through ArcGIS Pro\n",
    "\n",
    "print(\"\\n\\nActive Portal in ArcGIS Pro\")  \n",
    "gis = GIS(\"pro\")"
   ]
  },
  {
   "cell_type": "code",
   "execution_count": null,
   "metadata": {},
   "outputs": [],
   "source": [
    "#  when you don't provide passowrd after user name, it will ask user to type in  password\n",
    "\n",
    "gis = GIS(\"https://python.playground.esri.com/portal\", username='arcgis_python')\n",
    "print(\"Successfully logged in as: \" + gis.properties.user.username)"
   ]
  },
  {
   "cell_type": "markdown",
   "metadata": {},
   "source": [
    "\n",
    "Storing your credentialls locally:\n",
    "If you are signing in frequently to a particular GIS and would like to store the credentials locally on your computer, then you could do so using the profile parameter of your GIS.\n"
   ]
  },
  {
   "cell_type": "code",
   "execution_count": null,
   "metadata": {},
   "outputs": [],
   "source": [
    "#Define 2 different profiles for two different urls#Define \n",
    "playground_gis = GIS(url=\"https://python.playground.esri.com/portal\", username='arcgis_python', \n",
    "                     password='amazing_arcgis_123',profile='python_playground_prof')\n",
    "agol_gis = GIS(url=\"https://arcgis.com/\", username='arcgis_python', password=\"P@ssword123\",\n",
    "    profile=\"AGOL_prof\")\n",
    "print(\"profile defined for {}\".format(playground_gis))\n",
    "print(\"profile defined for {}\".format(agol_gis))"
   ]
  },
  {
   "cell_type": "code",
   "execution_count": 7,
   "metadata": {},
   "outputs": [
    {
     "name": "stderr",
     "output_type": "stream",
     "text": [
      "Profile AGOL_prof does not have a password on file through keyring. If you are expecting this behavior (PKI or IWA authentication, entering password through run-time prompt, etc.), please ignore this message. If you would like to store your password in the AGOL_prof profile, run GIS(profile = 'AGOL_prof', password = ...). See the API doc for more details. (http://bit.ly/2CK2wG8)\n"
     ]
    },
    {
     "name": "stdout",
     "output_type": "stream",
     "text": [
      "Successfully logged into 'python.playground.esri.com/portal' via the 'arcgis_python' user\n"
     ]
    },
    {
     "ename": "AttributeError",
     "evalue": "'PropertyMap' instance has no attribute 'user'",
     "output_type": "error",
     "traceback": [
      "\u001b[1;31m---------------------------------------------------------------------------\u001b[0m",
      "\u001b[1;31mAttributeError\u001b[0m                            Traceback (most recent call last)",
      "\u001b[1;32m<ipython-input-7-34c68467891f>\u001b[0m in \u001b[0;36m<module>\u001b[1;34m()\u001b[0m\n\u001b[0;32m     10\u001b[0m \u001b[1;33m\u001b[0m\u001b[0m\n\u001b[0;32m     11\u001b[0m \u001b[0magol_gis\u001b[0m \u001b[1;33m=\u001b[0m \u001b[0mGIS\u001b[0m\u001b[1;33m(\u001b[0m\u001b[0mprofile\u001b[0m\u001b[1;33m=\u001b[0m\u001b[1;34m\"AGOL_prof\"\u001b[0m\u001b[1;33m)\u001b[0m\u001b[1;33m\u001b[0m\u001b[0m\n\u001b[1;32m---> 12\u001b[1;33m \u001b[0mprint_profile_info\u001b[0m\u001b[1;33m(\u001b[0m\u001b[0magol_gis\u001b[0m\u001b[1;33m)\u001b[0m\u001b[1;33m\u001b[0m\u001b[0m\n\u001b[0m",
      "\u001b[1;32m<ipython-input-7-34c68467891f>\u001b[0m in \u001b[0;36mprint_profile_info\u001b[1;34m(gis)\u001b[0m\n\u001b[0;32m      4\u001b[0m     print(\"Successfully logged into '{}' via the '{}' user\".format(\n\u001b[0;32m      5\u001b[0m            \u001b[0mgis\u001b[0m\u001b[1;33m.\u001b[0m\u001b[0mproperties\u001b[0m\u001b[1;33m.\u001b[0m\u001b[0mportalHostname\u001b[0m\u001b[1;33m,\u001b[0m\u001b[1;33m\u001b[0m\u001b[0m\n\u001b[1;32m----> 6\u001b[1;33m            gis.properties.user.username)) \n\u001b[0m\u001b[0;32m      7\u001b[0m \u001b[1;33m\u001b[0m\u001b[0m\n\u001b[0;32m      8\u001b[0m \u001b[0mplayground_gis\u001b[0m \u001b[1;33m=\u001b[0m \u001b[0mGIS\u001b[0m\u001b[1;33m(\u001b[0m\u001b[0mprofile\u001b[0m\u001b[1;33m=\u001b[0m\u001b[1;34m'python_playground_prof'\u001b[0m\u001b[1;33m)\u001b[0m\u001b[1;33m\u001b[0m\u001b[0m\n",
      "\u001b[1;32m~\\AppData\\Local\\Continuum\\anaconda3\\lib\\site-packages\\arcgis\\_impl\\common\\_mixins.py\u001b[0m in \u001b[0;36m__getattr__\u001b[1;34m(self, key)\u001b[0m\n\u001b[0;32m     79\u001b[0m             raise AttributeError(\n\u001b[0;32m     80\u001b[0m                 \"'{cls}' instance has no attribute '{name}'\".format(\n\u001b[1;32m---> 81\u001b[1;33m                     \u001b[0mcls\u001b[0m\u001b[1;33m=\u001b[0m\u001b[0mself\u001b[0m\u001b[1;33m.\u001b[0m\u001b[0m__class__\u001b[0m\u001b[1;33m.\u001b[0m\u001b[0m__name__\u001b[0m\u001b[1;33m,\u001b[0m \u001b[0mname\u001b[0m\u001b[1;33m=\u001b[0m\u001b[0mkey\u001b[0m\u001b[1;33m\u001b[0m\u001b[0m\n\u001b[0m\u001b[0;32m     82\u001b[0m                 )\n\u001b[0;32m     83\u001b[0m             )\n",
      "\u001b[1;31mAttributeError\u001b[0m: 'PropertyMap' instance has no attribute 'user'"
     ]
    }
   ],
   "source": [
    "#To sign in during a different session, simply specify the profile file name. You can work with any number of connections concurrently, \n",
    "#as the authentication credentials stored for each profile will be automatically loaded at runtime.\n",
    "def print_profile_info(gis):\n",
    "    print(\"Successfully logged into '{}' via the '{}' user\".format(\n",
    "           gis.properties.portalHostname,\n",
    "           gis.properties.user.username)) \n",
    "\n",
    "playground_gis = GIS(profile='python_playground_prof')\n",
    "print_profile_info(playground_gis)\n",
    "\n",
    "agol_gis = GIS(profile=\"AGOL_prof\")\n",
    "print_profile_info(agol_gis)"
   ]
  },
  {
   "cell_type": "markdown",
   "metadata": {},
   "source": [
    "## Windows\n",
    "On Windows, your password will be stored in the Windows Credentials Manager. You can access the Credentials Manager to manage stored passwords by selecting:\n",
    "\n",
    "Start > Control Panel > User Accounts > Credential Manager > Windows Credentials > Generic Credentials\n",
    "\n",
    "If you had a password stored through a profile named \"profile_example\", you would see this entry under \"arcgis_python_api_profile_passwords\":\n",
    "\n",
    "\n",
    "\n",
    "Notice that in the Windows Credentials Manager's view, the profile name \"profile_example\" is filed under \"User name\"."
   ]
  },
  {
   "cell_type": "markdown",
   "metadata": {},
   "source": [
    "# Accessing and creating content"
   ]
  },
  {
   "cell_type": "code",
   "execution_count": 8,
   "metadata": {},
   "outputs": [
    {
     "data": {
      "text/plain": [
       "arcgis.gis.ContentManager"
      ]
     },
     "execution_count": 8,
     "metadata": {},
     "output_type": "execute_result"
    }
   ],
   "source": [
    "#Searching for content\n",
    "from arcgis.gis import GIS\n",
    "gis = GIS(\"https://www.arcgis.com\", \"arcgis_python\", \"P@ssword123\")\n",
    "\n",
    "type(gis.content)\n"
   ]
  },
  {
   "cell_type": "code",
   "execution_count": null,
   "metadata": {},
   "outputs": [],
   "source": []
  }
 ],
 "metadata": {
  "kernelspec": {
   "display_name": "Python 3",
   "language": "python",
   "name": "python3"
  },
  "language_info": {
   "codemirror_mode": {
    "name": "ipython",
    "version": 3
   },
   "file_extension": ".py",
   "mimetype": "text/x-python",
   "name": "python",
   "nbconvert_exporter": "python",
   "pygments_lexer": "ipython3",
   "version": "3.6.5"
  }
 },
 "nbformat": 4,
 "nbformat_minor": 2
}
