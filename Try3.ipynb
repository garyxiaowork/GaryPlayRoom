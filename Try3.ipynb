{
 "cells": [
  {
   "cell_type": "markdown",
   "metadata": {},
   "source": [
    "# Managing your content\n",
    "As an organization matures and expands its GIS, users add items of various types and properties with varying relationships to one another. Any administrator must regularly manage items contained in various groups and owned by various users. In this section we demonstrate how to work with individual items in a GIS. This guide shows how to retrieve item properties, delete an existing item, and how to examine relationships between items."
   ]
  },
  {
   "cell_type": "code",
   "execution_count": 2,
   "metadata": {},
   "outputs": [],
   "source": [
    "# Import\n",
    "from arcgis.gis import GIS\n",
    "# logins:\n",
    "apl = GIS(url=\"https://python.playground.esri.com/portal\",username='arcgis_python', password='amazing_arcgis_123')\n",
    "aol = GIS(url=\"https://arcgis.com/\", username='arcgis_python', password=\"P@ssword123\",)\n",
    "apa =GIS(\"https://python.playground.esri.com/portal\")\n",
    "aoa =GIS()\n"
   ]
  },
  {
   "cell_type": "code",
   "execution_count": 57,
   "metadata": {},
   "outputs": [
    {
     "data": {
      "text/html": [
       "<div class=\"item_container\" style=\"height: auto; overflow: hidden; border: 1px solid #cfcfcf; border-radius: 2px; background: #f6fafa; line-height: 1.21429em; padding: 10px;\">\n",
       "                    <div class=\"item_left\" style=\"width: 210px; float: left;\">\n",
       "                       <a href='https://python.playground.esri.com/portal/home/item.html?id=5203d33eed8b4611859a2d9dca8b604e' target='_blank'>\n",
       "                        <img src='data:image/png;base64,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' width='200' height='133' class=\"itemThumbnail\">\n",
       "                       </a>\n",
       "                    </div>\n",
       "\n",
       "                    <div class=\"item_right\"     style=\"float: none; width: auto; overflow: hidden;\">\n",
       "                        <a href='https://python.playground.esri.com/portal/home/item.html?id=5203d33eed8b4611859a2d9dca8b604e' target='_blank'><b>USA ZIP Codes (2015)</b>\n",
       "                        </a>\n",
       "                        <br/>This layer presents five-digit ZIP Code areas used by the U.S. Postal Service to deliver mail more effectively.<img src='https://python.playground.esri.com/portal/home/js/jsapi/esri/css/images/item_type_icons/featureshosted16.png' style=\"vertical-align:middle;\">Feature Layer Collection by esri_livingatlas\n",
       "                        <br/>Last Modified: October 07, 2016\n",
       "                        <br/>0 comments, 0 views\n",
       "                    </div>\n",
       "                </div>\n",
       "                "
      ],
      "text/plain": [
       "<Item title:\"USA ZIP Codes (2015)\" type:Feature Layer Collection owner:esri_livingatlas>"
      ]
     },
     "metadata": {},
     "output_type": "display_data"
    },
    {
     "data": {
      "text/plain": [
       "'5203d33eed8b4611859a2d9dca8b604e'"
      ]
     },
     "execution_count": 57,
     "metadata": {},
     "output_type": "execute_result"
    },
    {
     "data": {
      "text/html": [
       "<div class=\"item_container\" style=\"height: auto; overflow: hidden; border: 1px solid #cfcfcf; border-radius: 2px; background: #f6fafa; line-height: 1.21429em; padding: 10px;\">\n",
       "                    <div class=\"item_left\" style=\"width: 210px; float: left;\">\n",
       "                       <a href='https://python.playground.esri.com/portal/home/item.html?id=698624ecea2e4bbe967bd127c88cd538' target='_blank'>\n",
       "                        <img src='https://python.playground.esri.com/portal/portalimages/desktopapp.png' class=\"itemThumbnail\">\n",
       "                       </a>\n",
       "                    </div>\n",
       "\n",
       "                    <div class=\"item_right\"     style=\"float: none; width: auto; overflow: hidden;\">\n",
       "                        <a href='https://python.playground.esri.com/portal/home/item.html?id=698624ecea2e4bbe967bd127c88cd538' target='_blank'><b>U.S. Postal Point</b>\n",
       "                        </a>\n",
       "                        <br/><img src='https://python.playground.esri.com/portal/home/js/jsapi/esri/css/images/item_type_icons/layers16.png' style=\"vertical-align:middle;\">CSV by arcgis_python\n",
       "                        <br/>Last Modified: July 19, 2018\n",
       "                        <br/>0 comments, 0 views\n",
       "                    </div>\n",
       "                </div>\n",
       "                "
      ],
      "text/plain": [
       "<Item title:\"U.S. Postal Point\" type:CSV owner:arcgis_python>"
      ]
     },
     "metadata": {},
     "output_type": "display_data"
    },
    {
     "data": {
      "text/plain": [
       "'698624ecea2e4bbe967bd127c88cd538'"
      ]
     },
     "execution_count": 57,
     "metadata": {},
     "output_type": "execute_result"
    }
   ],
   "source": [
    "result = apl.content.search(query=\"tags:zip*\",)\n",
    "from IPython.display import display\n",
    "for item in result:\n",
    "    display(item)\n",
    "    item.id"
   ]
  },
  {
   "cell_type": "code",
   "execution_count": 58,
   "metadata": {},
   "outputs": [
    {
     "data": {
      "text/html": [
       "<div class=\"item_container\" style=\"height: auto; overflow: hidden; border: 1px solid #cfcfcf; border-radius: 2px; background: #f6fafa; line-height: 1.21429em; padding: 10px;\">\n",
       "                    <div class=\"item_left\" style=\"width: 210px; float: left;\">\n",
       "                       <a href='https://python.playground.esri.com/portal/home/item.html?id=698624ecea2e4bbe967bd127c88cd538' target='_blank'>\n",
       "                        <img src='https://python.playground.esri.com/portal/portalimages/desktopapp.png' class=\"itemThumbnail\">\n",
       "                       </a>\n",
       "                    </div>\n",
       "\n",
       "                    <div class=\"item_right\"     style=\"float: none; width: auto; overflow: hidden;\">\n",
       "                        <a href='https://python.playground.esri.com/portal/home/item.html?id=698624ecea2e4bbe967bd127c88cd538' target='_blank'><b>U.S. Postal Point</b>\n",
       "                        </a>\n",
       "                        <br/><img src='https://python.playground.esri.com/portal/home/js/jsapi/esri/css/images/item_type_icons/layers16.png' style=\"vertical-align:middle;\">CSV by arcgis_python\n",
       "                        <br/>Last Modified: July 19, 2018\n",
       "                        <br/>0 comments, 0 views\n",
       "                    </div>\n",
       "                </div>\n",
       "                "
      ],
      "text/plain": [
       "<Item title:\"U.S. Postal Point\" type:CSV owner:arcgis_python>"
      ]
     },
     "execution_count": 58,
     "metadata": {},
     "output_type": "execute_result"
    }
   ],
   "source": [
    "\n",
    "#access an Item#access \n",
    "zip_item = apl.content.get('698624ecea2e4bbe967bd127c88cd538')\n",
    "zip_item"
   ]
  },
  {
   "cell_type": "markdown",
   "metadata": {},
   "source": [
    "# update iitem info"
   ]
  },
  {
   "cell_type": "code",
   "execution_count": 59,
   "metadata": {},
   "outputs": [
    {
     "data": {
      "text/plain": [
       "['arcgis', 'zip code', 'postal']"
      ]
     },
     "execution_count": 59,
     "metadata": {},
     "output_type": "execute_result"
    }
   ],
   "source": [
    "# tags\n",
    "zip_item.tags"
   ]
  },
  {
   "cell_type": "code",
   "execution_count": 60,
   "metadata": {},
   "outputs": [
    {
     "data": {
      "text/plain": [
       "True"
      ]
     },
     "execution_count": 60,
     "metadata": {},
     "output_type": "execute_result"
    }
   ],
   "source": [
    "# update the tags#\n",
    "zip_item.update(item_properties={'tags':'postal,zip,national'})"
   ]
  },
  {
   "cell_type": "code",
   "execution_count": 61,
   "metadata": {},
   "outputs": [
    {
     "data": {
      "text/plain": [
       "['postal', 'zip', 'national']"
      ]
     },
     "execution_count": 61,
     "metadata": {},
     "output_type": "execute_result"
    }
   ],
   "source": [
    "# tags\n",
    "zip_item.tags"
   ]
  },
  {
   "cell_type": "markdown",
   "metadata": {},
   "source": [
    "# download your Item:"
   ]
  },
  {
   "cell_type": "code",
   "execution_count": 62,
   "metadata": {},
   "outputs": [
    {
     "data": {
      "text/html": [
       "<div class=\"item_container\" style=\"height: auto; overflow: hidden; border: 1px solid #cfcfcf; border-radius: 2px; background: #f6fafa; line-height: 1.21429em; padding: 10px;\">\n",
       "                    <div class=\"item_left\" style=\"width: 210px; float: left;\">\n",
       "                       <a href='https://python.playground.esri.com/portal/home/item.html?id=cbe980e8567646398a5a0fa79eb5fc3c' target='_blank'>\n",
       "                        <img src='https://python.playground.esri.com/portal/portalimages/desktopapp.png' class=\"itemThumbnail\">\n",
       "                       </a>\n",
       "                    </div>\n",
       "\n",
       "                    <div class=\"item_right\"     style=\"float: none; width: auto; overflow: hidden;\">\n",
       "                        <a href='https://python.playground.esri.com/portal/home/item.html?id=cbe980e8567646398a5a0fa79eb5fc3c' target='_blank'><b>China COllege</b>\n",
       "                        </a>\n",
       "                        <br/><img src='https://python.playground.esri.com/portal/home/js/jsapi/esri/css/images/item_type_icons/layers16.png' style=\"vertical-align:middle;\">CSV by arcgis_python\n",
       "                        <br/>Last Modified: November 06, 2017\n",
       "                        <br/>0 comments, 0 views\n",
       "                    </div>\n",
       "                </div>\n",
       "                "
      ],
      "text/plain": [
       "<Item title:\"China COllege\" type:CSV owner:arcgis_python>"
      ]
     },
     "metadata": {},
     "output_type": "display_data"
    },
    {
     "data": {
      "text/plain": [
       "'cbe980e8567646398a5a0fa79eb5fc3c'"
      ]
     },
     "execution_count": 62,
     "metadata": {},
     "output_type": "execute_result"
    },
    {
     "data": {
      "text/html": [
       "<div class=\"item_container\" style=\"height: auto; overflow: hidden; border: 1px solid #cfcfcf; border-radius: 2px; background: #f6fafa; line-height: 1.21429em; padding: 10px;\">\n",
       "                    <div class=\"item_left\" style=\"width: 210px; float: left;\">\n",
       "                       <a href='https://python.playground.esri.com/portal/home/item.html?id=b9d1241a51a54bbca9085c648b46e78e' target='_blank'>\n",
       "                        <img src='data:image/png;base64,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' width='200' height='133' class=\"itemThumbnail\">\n",
       "                       </a>\n",
       "                    </div>\n",
       "\n",
       "                    <div class=\"item_right\"     style=\"float: none; width: auto; overflow: hidden;\">\n",
       "                        <a href='https://python.playground.esri.com/portal/home/item.html?id=b9d1241a51a54bbca9085c648b46e78e' target='_blank'><b>earthquakes</b>\n",
       "                        </a>\n",
       "                        <br/><img src='https://python.playground.esri.com/portal/home/js/jsapi/esri/css/images/item_type_icons/layers16.png' style=\"vertical-align:middle;\">CSV by arcgis_python\n",
       "                        <br/>Last Modified: July 02, 2017\n",
       "                        <br/>0 comments, 2 views\n",
       "                    </div>\n",
       "                </div>\n",
       "                "
      ],
      "text/plain": [
       "<Item title:\"earthquakes\" type:CSV owner:arcgis_python>"
      ]
     },
     "metadata": {},
     "output_type": "display_data"
    },
    {
     "data": {
      "text/plain": [
       "'b9d1241a51a54bbca9085c648b46e78e'"
      ]
     },
     "execution_count": 62,
     "metadata": {},
     "output_type": "execute_result"
    },
    {
     "data": {
      "text/html": [
       "<div class=\"item_container\" style=\"height: auto; overflow: hidden; border: 1px solid #cfcfcf; border-radius: 2px; background: #f6fafa; line-height: 1.21429em; padding: 10px;\">\n",
       "                    <div class=\"item_left\" style=\"width: 210px; float: left;\">\n",
       "                       <a href='https://python.playground.esri.com/portal/home/item.html?id=0455064343aa4068a35e2c8a00de76a0' target='_blank'>\n",
       "                        <img src='data:image/png;base64,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' width='200' height='133' class=\"itemThumbnail\">\n",
       "                       </a>\n",
       "                    </div>\n",
       "\n",
       "                    <div class=\"item_right\"     style=\"float: none; width: auto; overflow: hidden;\">\n",
       "                        <a href='https://python.playground.esri.com/portal/home/item.html?id=0455064343aa4068a35e2c8a00de76a0' target='_blank'><b>SFPD calls for the year 2016_2</b>\n",
       "                        </a>\n",
       "                        <br/><img src='https://python.playground.esri.com/portal/home/js/jsapi/esri/css/images/item_type_icons/layers16.png' style=\"vertical-align:middle;\">CSV by arcgis_python\n",
       "                        <br/>Last Modified: April 16, 2018\n",
       "                        <br/>0 comments, 0 views\n",
       "                    </div>\n",
       "                </div>\n",
       "                "
      ],
      "text/plain": [
       "<Item title:\"SFPD calls for the year 2016_2\" type:CSV owner:arcgis_python>"
      ]
     },
     "metadata": {},
     "output_type": "display_data"
    },
    {
     "data": {
      "text/plain": [
       "'0455064343aa4068a35e2c8a00de76a0'"
      ]
     },
     "execution_count": 62,
     "metadata": {},
     "output_type": "execute_result"
    },
    {
     "data": {
      "text/html": [
       "<div class=\"item_container\" style=\"height: auto; overflow: hidden; border: 1px solid #cfcfcf; border-radius: 2px; background: #f6fafa; line-height: 1.21429em; padding: 10px;\">\n",
       "                    <div class=\"item_left\" style=\"width: 210px; float: left;\">\n",
       "                       <a href='https://python.playground.esri.com/portal/home/item.html?id=98118dbefa4b41238cc40833eb558820' target='_blank'>\n",
       "                        <img src='data:image/png;base64,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' width='200' height='133' class=\"itemThumbnail\">\n",
       "                       </a>\n",
       "                    </div>\n",
       "\n",
       "                    <div class=\"item_right\"     style=\"float: none; width: auto; overflow: hidden;\">\n",
       "                        <a href='https://python.playground.esri.com/portal/home/item.html?id=98118dbefa4b41238cc40833eb558820' target='_blank'><b>SFPD calls for the year 2016</b>\n",
       "                        </a>\n",
       "                        <br/><img src='https://python.playground.esri.com/portal/home/js/jsapi/esri/css/images/item_type_icons/layers16.png' style=\"vertical-align:middle;\">CSV by arcgis_python\n",
       "                        <br/>Last Modified: April 16, 2018\n",
       "                        <br/>0 comments, 0 views\n",
       "                    </div>\n",
       "                </div>\n",
       "                "
      ],
      "text/plain": [
       "<Item title:\"SFPD calls for the year 2016\" type:CSV owner:arcgis_python>"
      ]
     },
     "metadata": {},
     "output_type": "display_data"
    },
    {
     "data": {
      "text/plain": [
       "'98118dbefa4b41238cc40833eb558820'"
      ]
     },
     "execution_count": 62,
     "metadata": {},
     "output_type": "execute_result"
    },
    {
     "data": {
      "text/html": [
       "<div class=\"item_container\" style=\"height: auto; overflow: hidden; border: 1px solid #cfcfcf; border-radius: 2px; background: #f6fafa; line-height: 1.21429em; padding: 10px;\">\n",
       "                    <div class=\"item_left\" style=\"width: 210px; float: left;\">\n",
       "                       <a href='https://python.playground.esri.com/portal/home/item.html?id=23eea2dd10da4a50b6032563b254592f' target='_blank'>\n",
       "                        <img src='data:image/png;base64,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' width='200' height='133' class=\"itemThumbnail\">\n",
       "                       </a>\n",
       "                    </div>\n",
       "\n",
       "                    <div class=\"item_right\"     style=\"float: none; width: auto; overflow: hidden;\">\n",
       "                        <a href='https://python.playground.esri.com/portal/home/item.html?id=23eea2dd10da4a50b6032563b254592f' target='_blank'><b>SFPD calls for the year 2018</b>\n",
       "                        </a>\n",
       "                        <br/><img src='https://python.playground.esri.com/portal/home/js/jsapi/esri/css/images/item_type_icons/layers16.png' style=\"vertical-align:middle;\">CSV by arcgis_python\n",
       "                        <br/>Last Modified: April 09, 2018\n",
       "                        <br/>0 comments, 0 views\n",
       "                    </div>\n",
       "                </div>\n",
       "                "
      ],
      "text/plain": [
       "<Item title:\"SFPD calls for the year 2018\" type:CSV owner:arcgis_python>"
      ]
     },
     "metadata": {},
     "output_type": "display_data"
    },
    {
     "data": {
      "text/plain": [
       "'23eea2dd10da4a50b6032563b254592f'"
      ]
     },
     "execution_count": 62,
     "metadata": {},
     "output_type": "execute_result"
    },
    {
     "data": {
      "text/html": [
       "<div class=\"item_container\" style=\"height: auto; overflow: hidden; border: 1px solid #cfcfcf; border-radius: 2px; background: #f6fafa; line-height: 1.21429em; padding: 10px;\">\n",
       "                    <div class=\"item_left\" style=\"width: 210px; float: left;\">\n",
       "                       <a href='https://python.playground.esri.com/portal/home/item.html?id=ae6be1443d644971bbd73a08fecdf76b' target='_blank'>\n",
       "                        <img src='https://python.playground.esri.com/portal/portalimages/desktopapp.png' class=\"itemThumbnail\">\n",
       "                       </a>\n",
       "                    </div>\n",
       "\n",
       "                    <div class=\"item_right\"     style=\"float: none; width: auto; overflow: hidden;\">\n",
       "                        <a href='https://python.playground.esri.com/portal/home/item.html?id=ae6be1443d644971bbd73a08fecdf76b' target='_blank'><b>Ebola_Treatment_Units_Unclassed</b>\n",
       "                        </a>\n",
       "                        <br/>ATtempt to create Ebola Facilities service<img src='https://python.playground.esri.com/portal/home/js/jsapi/esri/css/images/item_type_icons/layers16.png' style=\"vertical-align:middle;\">CSV by arcgis_python\n",
       "                        <br/>Last Modified: April 18, 2018\n",
       "                        <br/>0 comments, 0 views\n",
       "                    </div>\n",
       "                </div>\n",
       "                "
      ],
      "text/plain": [
       "<Item title:\"Ebola_Treatment_Units_Unclassed\" type:CSV owner:arcgis_python>"
      ]
     },
     "metadata": {},
     "output_type": "display_data"
    },
    {
     "data": {
      "text/plain": [
       "'ae6be1443d644971bbd73a08fecdf76b'"
      ]
     },
     "execution_count": 62,
     "metadata": {},
     "output_type": "execute_result"
    },
    {
     "data": {
      "text/html": [
       "<div class=\"item_container\" style=\"height: auto; overflow: hidden; border: 1px solid #cfcfcf; border-radius: 2px; background: #f6fafa; line-height: 1.21429em; padding: 10px;\">\n",
       "                    <div class=\"item_left\" style=\"width: 210px; float: left;\">\n",
       "                       <a href='https://python.playground.esri.com/portal/home/item.html?id=c766e56c866d4851ad4a8df6c8b60424' target='_blank'>\n",
       "                        <img src='https://python.playground.esri.com/portal/portalimages/desktopapp.png' class=\"itemThumbnail\">\n",
       "                       </a>\n",
       "                    </div>\n",
       "\n",
       "                    <div class=\"item_right\"     style=\"float: none; width: auto; overflow: hidden;\">\n",
       "                        <a href='https://python.playground.esri.com/portal/home/item.html?id=c766e56c866d4851ad4a8df6c8b60424' target='_blank'><b>USA Capitals spreadsheet</b>\n",
       "                        </a>\n",
       "                        <br/><img src='https://python.playground.esri.com/portal/home/js/jsapi/esri/css/images/item_type_icons/layers16.png' style=\"vertical-align:middle;\">CSV by arcgis_python\n",
       "                        <br/>Last Modified: June 26, 2017\n",
       "                        <br/>0 comments, 0 views\n",
       "                    </div>\n",
       "                </div>\n",
       "                "
      ],
      "text/plain": [
       "<Item title:\"USA Capitals spreadsheet\" type:CSV owner:arcgis_python>"
      ]
     },
     "metadata": {},
     "output_type": "display_data"
    },
    {
     "data": {
      "text/plain": [
       "'c766e56c866d4851ad4a8df6c8b60424'"
      ]
     },
     "execution_count": 62,
     "metadata": {},
     "output_type": "execute_result"
    },
    {
     "data": {
      "text/html": [
       "<div class=\"item_container\" style=\"height: auto; overflow: hidden; border: 1px solid #cfcfcf; border-radius: 2px; background: #f6fafa; line-height: 1.21429em; padding: 10px;\">\n",
       "                    <div class=\"item_left\" style=\"width: 210px; float: left;\">\n",
       "                       <a href='https://python.playground.esri.com/portal/home/item.html?id=fa7e691f5ca14400b5ded6c7b798bc3c' target='_blank'>\n",
       "                        <img src='https://python.playground.esri.com/portal/portalimages/desktopapp.png' class=\"itemThumbnail\">\n",
       "                       </a>\n",
       "                    </div>\n",
       "\n",
       "                    <div class=\"item_right\"     style=\"float: none; width: auto; overflow: hidden;\">\n",
       "                        <a href='https://python.playground.esri.com/portal/home/item.html?id=fa7e691f5ca14400b5ded6c7b798bc3c' target='_blank'><b>Dönerläden.kml</b>\n",
       "                        </a>\n",
       "                        <br/><img src='https://python.playground.esri.com/portal/home/js/jsapi/esri/css/images/item_type_icons/layers16.png' style=\"vertical-align:middle;\">CSV by arcgis_python\n",
       "                        <br/>Last Modified: March 29, 2018\n",
       "                        <br/>0 comments, 0 views\n",
       "                    </div>\n",
       "                </div>\n",
       "                "
      ],
      "text/plain": [
       "<Item title:\"Dönerläden.kml\" type:CSV owner:arcgis_python>"
      ]
     },
     "metadata": {},
     "output_type": "display_data"
    },
    {
     "data": {
      "text/plain": [
       "'fa7e691f5ca14400b5ded6c7b798bc3c'"
      ]
     },
     "execution_count": 62,
     "metadata": {},
     "output_type": "execute_result"
    },
    {
     "data": {
      "text/html": [
       "<div class=\"item_container\" style=\"height: auto; overflow: hidden; border: 1px solid #cfcfcf; border-radius: 2px; background: #f6fafa; line-height: 1.21429em; padding: 10px;\">\n",
       "                    <div class=\"item_left\" style=\"width: 210px; float: left;\">\n",
       "                       <a href='https://python.playground.esri.com/portal/home/item.html?id=b4e2067bdfdd494d88fd26f8e91493d9' target='_blank'>\n",
       "                        <img src='data:image/png;base64,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' width='200' height='133' class=\"itemThumbnail\">\n",
       "                       </a>\n",
       "                    </div>\n",
       "\n",
       "                    <div class=\"item_right\"     style=\"float: none; width: auto; overflow: hidden;\">\n",
       "                        <a href='https://python.playground.esri.com/portal/home/item.html?id=b4e2067bdfdd494d88fd26f8e91493d9' target='_blank'><b>SFPD calls for the year 2016</b>\n",
       "                        </a>\n",
       "                        <br/><img src='https://python.playground.esri.com/portal/home/js/jsapi/esri/css/images/item_type_icons/layers16.png' style=\"vertical-align:middle;\">CSV by arcgis_python\n",
       "                        <br/>Last Modified: April 16, 2018\n",
       "                        <br/>0 comments, 0 views\n",
       "                    </div>\n",
       "                </div>\n",
       "                "
      ],
      "text/plain": [
       "<Item title:\"SFPD calls for the year 2016\" type:CSV owner:arcgis_python>"
      ]
     },
     "metadata": {},
     "output_type": "display_data"
    },
    {
     "data": {
      "text/plain": [
       "'b4e2067bdfdd494d88fd26f8e91493d9'"
      ]
     },
     "execution_count": 62,
     "metadata": {},
     "output_type": "execute_result"
    },
    {
     "data": {
      "text/html": [
       "<div class=\"item_container\" style=\"height: auto; overflow: hidden; border: 1px solid #cfcfcf; border-radius: 2px; background: #f6fafa; line-height: 1.21429em; padding: 10px;\">\n",
       "                    <div class=\"item_left\" style=\"width: 210px; float: left;\">\n",
       "                       <a href='https://python.playground.esri.com/portal/home/item.html?id=53f0c894e9a24ddf88f2d35d1675a09a' target='_blank'>\n",
       "                        <img src='https://python.playground.esri.com/portal/portalimages/desktopapp.png' class=\"itemThumbnail\">\n",
       "                       </a>\n",
       "                    </div>\n",
       "\n",
       "                    <div class=\"item_right\"     style=\"float: none; width: auto; overflow: hidden;\">\n",
       "                        <a href='https://python.playground.esri.com/portal/home/item.html?id=53f0c894e9a24ddf88f2d35d1675a09a' target='_blank'><b>USA Capitals spreadsheet UC</b>\n",
       "                        </a>\n",
       "                        <br/><img src='https://python.playground.esri.com/portal/home/js/jsapi/esri/css/images/item_type_icons/layers16.png' style=\"vertical-align:middle;\">CSV by arcgis_python\n",
       "                        <br/>Last Modified: July 13, 2017\n",
       "                        <br/>0 comments, 2 views\n",
       "                    </div>\n",
       "                </div>\n",
       "                "
      ],
      "text/plain": [
       "<Item title:\"USA Capitals spreadsheet UC\" type:CSV owner:arcgis_python>"
      ]
     },
     "metadata": {},
     "output_type": "display_data"
    },
    {
     "data": {
      "text/plain": [
       "'53f0c894e9a24ddf88f2d35d1675a09a'"
      ]
     },
     "execution_count": 62,
     "metadata": {},
     "output_type": "execute_result"
    }
   ],
   "source": [
    "result = apl.content.search(\"\",item_type=\"CSV\")\n",
    "from IPython.display import display\n",
    "for item in result:\n",
    "    display(item)\n",
    "    item.id"
   ]
  },
  {
   "cell_type": "code",
   "execution_count": 63,
   "metadata": {},
   "outputs": [
    {
     "data": {
      "text/html": [
       "<div class=\"item_container\" style=\"height: auto; overflow: hidden; border: 1px solid #cfcfcf; border-radius: 2px; background: #f6fafa; line-height: 1.21429em; padding: 10px;\">\n",
       "                    <div class=\"item_left\" style=\"width: 210px; float: left;\">\n",
       "                       <a href='https://python.playground.esri.com/portal/home/item.html?id=698624ecea2e4bbe967bd127c88cd538' target='_blank'>\n",
       "                        <img src='https://python.playground.esri.com/portal/portalimages/desktopapp.png' class=\"itemThumbnail\">\n",
       "                       </a>\n",
       "                    </div>\n",
       "\n",
       "                    <div class=\"item_right\"     style=\"float: none; width: auto; overflow: hidden;\">\n",
       "                        <a href='https://python.playground.esri.com/portal/home/item.html?id=698624ecea2e4bbe967bd127c88cd538' target='_blank'><b>U.S. Postal Point</b>\n",
       "                        </a>\n",
       "                        <br/><img src='https://python.playground.esri.com/portal/home/js/jsapi/esri/css/images/item_type_icons/layers16.png' style=\"vertical-align:middle;\">CSV by arcgis_python\n",
       "                        <br/>Last Modified: July 19, 2018\n",
       "                        <br/>0 comments, 0 views\n",
       "                    </div>\n",
       "                </div>\n",
       "                "
      ],
      "text/plain": [
       "<Item title:\"U.S. Postal Point\" type:CSV owner:arcgis_python>"
      ]
     },
     "execution_count": 63,
     "metadata": {},
     "output_type": "execute_result"
    }
   ],
   "source": [
    "#get the item\n",
    "postal_csv=apl.content.get('698624ecea2e4bbe967bd127c88cd538')\n",
    "postal_csv"
   ]
  },
  {
   "cell_type": "code",
   "execution_count": 64,
   "metadata": {},
   "outputs": [
    {
     "data": {
      "text/plain": [
       "'C:\\\\Users\\\\jeng430\\\\AppData\\\\Local\\\\Temp\\\\free-zipcode-database.csv'"
      ]
     },
     "execution_count": 64,
     "metadata": {},
     "output_type": "execute_result"
    }
   ],
   "source": [
    "#get the csv\n",
    "postal_csv.get_data()\n"
   ]
  },
  {
   "cell_type": "code",
   "execution_count": 65,
   "metadata": {},
   "outputs": [],
   "source": [
    "#Download metadata\n",
    "postal_csv.download_metadata(save_folder = r'C:\\Users\\jeng430\\Downloads')\n",
    "#Download Thumbnail\n",
    "postal_csv.download_thumbnail(save_folder = r'C:\\Users\\jeng430\\Downloads')"
   ]
  },
  {
   "cell_type": "code",
   "execution_count": 67,
   "metadata": {},
   "outputs": [
    {
     "data": {
      "text/html": [
       "<div class=\"item_container\" style=\"height: auto; overflow: hidden; border: 1px solid #cfcfcf; border-radius: 2px; background: #f6fafa; line-height: 1.21429em; padding: 10px;\">\n",
       "                    <div class=\"item_left\" style=\"width: 210px; float: left;\">\n",
       "                       <a href='https://python.playground.esri.com/portal/home/item.html?id=698624ecea2e4bbe967bd127c88cd538' target='_blank'>\n",
       "                        <img src='https://python.playground.esri.com/portal/portalimages/desktopapp.png' class=\"itemThumbnail\">\n",
       "                       </a>\n",
       "                    </div>\n",
       "\n",
       "                    <div class=\"item_right\"     style=\"float: none; width: auto; overflow: hidden;\">\n",
       "                        <a href='https://python.playground.esri.com/portal/home/item.html?id=698624ecea2e4bbe967bd127c88cd538' target='_blank'><b>U.S. Postal Point</b>\n",
       "                        </a>\n",
       "                        <br/><img src='https://python.playground.esri.com/portal/home/js/jsapi/esri/css/images/item_type_icons/layers16.png' style=\"vertical-align:middle;\">CSV by arcgis_python\n",
       "                        <br/>Last Modified: July 19, 2018\n",
       "                        <br/>0 comments, 0 views\n",
       "                    </div>\n",
       "                </div>\n",
       "                "
      ],
      "text/plain": [
       "<Item title:\"U.S. Postal Point\" type:CSV owner:arcgis_python>"
      ]
     },
     "execution_count": 67,
     "metadata": {},
     "output_type": "execute_result"
    }
   ],
   "source": [
    "#Deleting content\n",
    "item_for_deletion = apl.content.get('698624ecea2e4bbe967bd127c88cd538')\n",
    "item_for_deletion"
   ]
  },
  {
   "cell_type": "code",
   "execution_count": 68,
   "metadata": {},
   "outputs": [
    {
     "data": {
      "text/plain": [
       "{'success': True}"
      ]
     },
     "execution_count": 68,
     "metadata": {},
     "output_type": "execute_result"
    }
   ],
   "source": [
    "# let us protect the ports item we accessed earlier# let u \n",
    "item_for_deletion.protect(enable = True)"
   ]
  },
  {
   "cell_type": "code",
   "execution_count": 69,
   "metadata": {},
   "outputs": [
    {
     "name": "stderr",
     "output_type": "stream",
     "text": [
      "Unable to delete item. Delete protection is turned on.\n"
     ]
    },
    {
     "ename": "RuntimeError",
     "evalue": "Unable to delete item. Delete protection is turned on.\n(Error Code: 500)",
     "output_type": "error",
     "traceback": [
      "\u001b[1;31m---------------------------------------------------------------------------\u001b[0m",
      "\u001b[1;31mRuntimeError\u001b[0m                              Traceback (most recent call last)",
      "\u001b[1;32m<ipython-input-69-ff735d03520e>\u001b[0m in \u001b[0;36m<module>\u001b[1;34m()\u001b[0m\n\u001b[1;32m----> 1\u001b[1;33m \u001b[0mitem_for_deletion\u001b[0m\u001b[1;33m.\u001b[0m\u001b[0mdelete\u001b[0m\u001b[1;33m(\u001b[0m\u001b[1;33m)\u001b[0m\u001b[1;33m\u001b[0m\u001b[0m\n\u001b[0m",
      "\u001b[1;32m~\\AppData\\Local\\Continuum\\anaconda3\\lib\\site-packages\\arcgis\\gis\\__init__.py\u001b[0m in \u001b[0;36mdelete\u001b[1;34m(self, force, dry_run)\u001b[0m\n\u001b[0;32m   5984\u001b[0m                 \u001b[1;32mreturn\u001b[0m \u001b[1;33m{\u001b[0m\u001b[1;34m'can_delete'\u001b[0m\u001b[1;33m:\u001b[0m\u001b[1;32mFalse\u001b[0m\u001b[1;33m,\u001b[0m \u001b[1;34m'details'\u001b[0m\u001b[1;33m:\u001b[0m \u001b[0merror_dict\u001b[0m\u001b[1;33m}\u001b[0m\u001b[1;33m\u001b[0m\u001b[0m\n\u001b[0;32m   5985\u001b[0m         \u001b[1;32melse\u001b[0m\u001b[1;33m:\u001b[0m\u001b[1;33m\u001b[0m\u001b[0m\n\u001b[1;32m-> 5986\u001b[1;33m             \u001b[1;32mreturn\u001b[0m \u001b[0mself\u001b[0m\u001b[1;33m.\u001b[0m\u001b[0m_portal\u001b[0m\u001b[1;33m.\u001b[0m\u001b[0mdelete_item\u001b[0m\u001b[1;33m(\u001b[0m\u001b[0mself\u001b[0m\u001b[1;33m.\u001b[0m\u001b[0mitemid\u001b[0m\u001b[1;33m,\u001b[0m \u001b[0mself\u001b[0m\u001b[1;33m.\u001b[0m\u001b[0mowner\u001b[0m\u001b[1;33m,\u001b[0m \u001b[0mfolder\u001b[0m\u001b[1;33m,\u001b[0m \u001b[0mforce\u001b[0m\u001b[1;33m)\u001b[0m\u001b[1;33m\u001b[0m\u001b[0m\n\u001b[0m\u001b[0;32m   5987\u001b[0m \u001b[1;33m\u001b[0m\u001b[0m\n\u001b[0;32m   5988\u001b[0m     \u001b[1;32mdef\u001b[0m \u001b[0mupdate\u001b[0m\u001b[1;33m(\u001b[0m\u001b[0mself\u001b[0m\u001b[1;33m,\u001b[0m \u001b[0mitem_properties\u001b[0m\u001b[1;33m=\u001b[0m\u001b[1;32mNone\u001b[0m\u001b[1;33m,\u001b[0m \u001b[0mdata\u001b[0m\u001b[1;33m=\u001b[0m\u001b[1;32mNone\u001b[0m\u001b[1;33m,\u001b[0m \u001b[0mthumbnail\u001b[0m\u001b[1;33m=\u001b[0m\u001b[1;32mNone\u001b[0m\u001b[1;33m,\u001b[0m \u001b[0mmetadata\u001b[0m\u001b[1;33m=\u001b[0m\u001b[1;32mNone\u001b[0m\u001b[1;33m)\u001b[0m\u001b[1;33m:\u001b[0m\u001b[1;33m\u001b[0m\u001b[0m\n",
      "\u001b[1;32m~\\AppData\\Local\\Continuum\\anaconda3\\lib\\site-packages\\arcgis\\_impl\\portalpy.py\u001b[0m in \u001b[0;36mdelete_item\u001b[1;34m(self, item_id, owner, folder, force)\u001b[0m\n\u001b[0;32m    596\u001b[0m         \u001b[1;32melse\u001b[0m\u001b[1;33m:\u001b[0m\u001b[1;33m\u001b[0m\u001b[0m\n\u001b[0;32m    597\u001b[0m             \u001b[0mpost_data\u001b[0m \u001b[1;33m=\u001b[0m \u001b[0mself\u001b[0m\u001b[1;33m.\u001b[0m\u001b[0m_postdata\u001b[0m\u001b[1;33m(\u001b[0m\u001b[1;33m)\u001b[0m\u001b[1;33m\u001b[0m\u001b[0m\n\u001b[1;32m--> 598\u001b[1;33m         \u001b[0mresp\u001b[0m \u001b[1;33m=\u001b[0m \u001b[0mself\u001b[0m\u001b[1;33m.\u001b[0m\u001b[0mcon\u001b[0m\u001b[1;33m.\u001b[0m\u001b[0mpost\u001b[0m\u001b[1;33m(\u001b[0m\u001b[0mpath\u001b[0m\u001b[1;33m,\u001b[0m \u001b[0mpost_data\u001b[0m\u001b[1;33m)\u001b[0m\u001b[1;33m\u001b[0m\u001b[0m\n\u001b[0m\u001b[0;32m    599\u001b[0m \u001b[1;33m\u001b[0m\u001b[0m\n\u001b[0;32m    600\u001b[0m         \u001b[1;32mif\u001b[0m \u001b[0mresp\u001b[0m\u001b[1;33m:\u001b[0m\u001b[1;33m\u001b[0m\u001b[0m\n",
      "\u001b[1;32m~\\AppData\\Local\\Continuum\\anaconda3\\lib\\site-packages\\arcgis\\_impl\\connection.py\u001b[0m in \u001b[0;36mpost\u001b[1;34m(self, path, postdata, files, ssl, compress, is_retry, use_ordered_dict, add_token, verify_cert, token, try_json, out_folder, file_name, force_bytes, add_headers)\u001b[0m\n\u001b[0;32m   1154\u001b[0m                                          verify_cert=verify_cert, is_retry=True)\n\u001b[0;32m   1155\u001b[0m \u001b[1;33m\u001b[0m\u001b[0m\n\u001b[1;32m-> 1156\u001b[1;33m                 \u001b[0mself\u001b[0m\u001b[1;33m.\u001b[0m\u001b[0m_handle_json_error\u001b[0m\u001b[1;33m(\u001b[0m\u001b[0mresp_json\u001b[0m\u001b[1;33m[\u001b[0m\u001b[1;34m'error'\u001b[0m\u001b[1;33m]\u001b[0m\u001b[1;33m,\u001b[0m \u001b[0merrorcode\u001b[0m\u001b[1;33m)\u001b[0m\u001b[1;33m\u001b[0m\u001b[0m\n\u001b[0m\u001b[0;32m   1157\u001b[0m                 \u001b[1;32mreturn\u001b[0m \u001b[1;32mNone\u001b[0m\u001b[1;33m\u001b[0m\u001b[0m\n\u001b[0;32m   1158\u001b[0m \u001b[1;33m\u001b[0m\u001b[0m\n",
      "\u001b[1;32m~\\AppData\\Local\\Continuum\\anaconda3\\lib\\site-packages\\arcgis\\_impl\\connection.py\u001b[0m in \u001b[0;36m_handle_json_error\u001b[1;34m(self, error, errorcode)\u001b[0m\n\u001b[0;32m   1175\u001b[0m \u001b[1;33m\u001b[0m\u001b[0m\n\u001b[0;32m   1176\u001b[0m         \u001b[0merrormessage\u001b[0m \u001b[1;33m=\u001b[0m \u001b[0merrormessage\u001b[0m \u001b[1;33m+\u001b[0m \u001b[1;34m\"\\n(Error Code: \"\u001b[0m \u001b[1;33m+\u001b[0m \u001b[0mstr\u001b[0m\u001b[1;33m(\u001b[0m\u001b[0merrorcode\u001b[0m\u001b[1;33m)\u001b[0m \u001b[1;33m+\u001b[0m\u001b[1;34m\")\"\u001b[0m\u001b[1;33m\u001b[0m\u001b[0m\n\u001b[1;32m-> 1177\u001b[1;33m         \u001b[1;32mraise\u001b[0m \u001b[0mRuntimeError\u001b[0m\u001b[1;33m(\u001b[0m\u001b[0merrormessage\u001b[0m\u001b[1;33m)\u001b[0m\u001b[1;33m\u001b[0m\u001b[0m\n\u001b[0m\u001b[0;32m   1178\u001b[0m \u001b[1;33m\u001b[0m\u001b[0m\n\u001b[0;32m   1179\u001b[0m \u001b[1;32mclass\u001b[0m \u001b[0m_StrictURLopener\u001b[0m\u001b[1;33m(\u001b[0m\u001b[0mrequest\u001b[0m\u001b[1;33m.\u001b[0m\u001b[0mFancyURLopener\u001b[0m\u001b[1;33m)\u001b[0m\u001b[1;33m:\u001b[0m\u001b[1;33m\u001b[0m\u001b[0m\n",
      "\u001b[1;31mRuntimeError\u001b[0m: Unable to delete item. Delete protection is turned on.\n(Error Code: 500)"
     ]
    }
   ],
   "source": [
    "item_for_deletion.delete()"
   ]
  },
  {
   "cell_type": "markdown",
   "metadata": {},
   "source": [
    "## Finding relationships between items"
   ]
  },
  {
   "cell_type": "code",
   "execution_count": 75,
   "metadata": {},
   "outputs": [
    {
     "data": {
      "text/html": [
       "<div class=\"item_container\" style=\"height: auto; overflow: hidden; border: 1px solid #cfcfcf; border-radius: 2px; background: #f6fafa; line-height: 1.21429em; padding: 10px;\">\n",
       "                    <div class=\"item_left\" style=\"width: 210px; float: left;\">\n",
       "                       <a href='https://python.playground.esri.com/portal/home/item.html?id=c38377dbfc0f4c3dba27f9424e3a7f90' target='_blank'>\n",
       "                        <img src='data:image/png;base64,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' width='200' height='133' class=\"itemThumbnail\">\n",
       "                       </a>\n",
       "                    </div>\n",
       "\n",
       "                    <div class=\"item_right\"     style=\"float: none; width: auto; overflow: hidden;\">\n",
       "                        <a href='https://python.playground.esri.com/portal/home/item.html?id=c38377dbfc0f4c3dba27f9424e3a7f90' target='_blank'><b>World Cities</b>\n",
       "                        </a>\n",
       "                        <br/>World Cities represents the locations of major cities of the world, ready for use in analysis.<img src='https://python.playground.esri.com/portal/home/js/jsapi/esri/css/images/item_type_icons/featureshosted16.png' style=\"vertical-align:middle;\">Feature Layer Collection by esri_livingatlas\n",
       "                        <br/>Last Modified: October 07, 2016\n",
       "                        <br/>0 comments, 0 views\n",
       "                    </div>\n",
       "                </div>\n",
       "                "
      ],
      "text/plain": [
       "<Item title:\"World Cities\" type:Feature Layer Collection owner:esri_livingatlas>"
      ]
     },
     "metadata": {},
     "output_type": "display_data"
    },
    {
     "data": {
      "text/plain": [
       "'c38377dbfc0f4c3dba27f9424e3a7f90'"
      ]
     },
     "execution_count": 75,
     "metadata": {},
     "output_type": "execute_result"
    },
    {
     "data": {
      "text/html": [
       "<div class=\"item_container\" style=\"height: auto; overflow: hidden; border: 1px solid #cfcfcf; border-radius: 2px; background: #f6fafa; line-height: 1.21429em; padding: 10px;\">\n",
       "                    <div class=\"item_left\" style=\"width: 210px; float: left;\">\n",
       "                       <a href='https://python.playground.esri.com/portal/home/item.html?id=f779c5f7ca7f4a739c8c0e682485133a' target='_blank'>\n",
       "                        <img src='https://python.playground.esri.com/portal/portalimages/desktopapp.png' class=\"itemThumbnail\">\n",
       "                       </a>\n",
       "                    </div>\n",
       "\n",
       "                    <div class=\"item_right\"     style=\"float: none; width: auto; overflow: hidden;\">\n",
       "                        <a href='https://python.playground.esri.com/portal/home/item.html?id=f779c5f7ca7f4a739c8c0e682485133a' target='_blank'><b>Port to the south of SFO along west coast of USA</b>\n",
       "                        </a>\n",
       "                        <br/><img src='https://python.playground.esri.com/portal/home/js/jsapi/esri/css/images/item_type_icons/features16.png' style=\"vertical-align:middle;\">Feature Collection by arcgis_python\n",
       "                        <br/>Last Modified: June 08, 2017\n",
       "                        <br/>0 comments, 0 views\n",
       "                    </div>\n",
       "                </div>\n",
       "                "
      ],
      "text/plain": [
       "<Item title:\"Port to the south of SFO along west coast of USA\" type:Feature Collection owner:arcgis_python>"
      ]
     },
     "metadata": {},
     "output_type": "display_data"
    },
    {
     "data": {
      "text/plain": [
       "'f779c5f7ca7f4a739c8c0e682485133a'"
      ]
     },
     "execution_count": 75,
     "metadata": {},
     "output_type": "execute_result"
    }
   ],
   "source": [
    "from IPython.display import display\n",
    "for item in apl.content.search(\"Ports\"):\n",
    "    display(item)\n",
    "    item.id\n"
   ]
  },
  {
   "cell_type": "code",
   "execution_count": 76,
   "metadata": {},
   "outputs": [
    {
     "data": {
      "text/html": [
       "<div class=\"item_container\" style=\"height: auto; overflow: hidden; border: 1px solid #cfcfcf; border-radius: 2px; background: #f6fafa; line-height: 1.21429em; padding: 10px;\">\n",
       "                    <div class=\"item_left\" style=\"width: 210px; float: left;\">\n",
       "                       <a href='https://python.playground.esri.com/portal/home/item.html?id=f779c5f7ca7f4a739c8c0e682485133a' target='_blank'>\n",
       "                        <img src='https://python.playground.esri.com/portal/portalimages/desktopapp.png' class=\"itemThumbnail\">\n",
       "                       </a>\n",
       "                    </div>\n",
       "\n",
       "                    <div class=\"item_right\"     style=\"float: none; width: auto; overflow: hidden;\">\n",
       "                        <a href='https://python.playground.esri.com/portal/home/item.html?id=f779c5f7ca7f4a739c8c0e682485133a' target='_blank'><b>Port to the south of SFO along west coast of USA</b>\n",
       "                        </a>\n",
       "                        <br/><img src='https://python.playground.esri.com/portal/home/js/jsapi/esri/css/images/item_type_icons/features16.png' style=\"vertical-align:middle;\">Feature Collection by arcgis_python\n",
       "                        <br/>Last Modified: June 08, 2017\n",
       "                        <br/>0 comments, 20 views\n",
       "                    </div>\n",
       "                </div>\n",
       "                "
      ],
      "text/plain": [
       "<Item title:\"Port to the south of SFO along west coast of USA\" type:Feature Collection owner:arcgis_python>"
      ]
     },
     "execution_count": 76,
     "metadata": {},
     "output_type": "execute_result"
    }
   ],
   "source": [
    "ports_feature_layer = apl.content.get('f779c5f7ca7f4a739c8c0e682485133a')\n",
    "ports_feature_layer"
   ]
  },
  {
   "cell_type": "code",
   "execution_count": 77,
   "metadata": {},
   "outputs": [
    {
     "data": {
      "text/plain": [
       "[]"
      ]
     },
     "execution_count": 77,
     "metadata": {},
     "output_type": "execute_result"
    }
   ],
   "source": [
    "ports_feature_layer.related_items('Service2Data', 'forward')"
   ]
  },
  {
   "cell_type": "markdown",
   "metadata": {},
   "source": [
    " ### Relationships of web map items\n"
   ]
  },
  {
   "cell_type": "code",
   "execution_count": 93,
   "metadata": {},
   "outputs": [
    {
     "data": {
      "text/html": [
       "<div class=\"item_container\" style=\"height: auto; overflow: hidden; border: 1px solid #cfcfcf; border-radius: 2px; background: #f6fafa; line-height: 1.21429em; padding: 10px;\">\n",
       "                    <div class=\"item_left\" style=\"width: 210px; float: left;\">\n",
       "                       <a href='https://python.playground.esri.com/portal/home/item.html?id=ff48bbae433442a38f6c635b8c7baf72' target='_blank'>\n",
       "                        <img src='data:image/png;base64,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' width='200' height='133' class=\"itemThumbnail\">\n",
       "                       </a>\n",
       "                    </div>\n",
       "\n",
       "                    <div class=\"item_right\"     style=\"float: none; width: auto; overflow: hidden;\">\n",
       "                        <a href='https://python.playground.esri.com/portal/home/item.html?id=ff48bbae433442a38f6c635b8c7baf72' target='_blank'><b>2016 Population Density by Congressional District</b>\n",
       "                        </a>\n",
       "                        <br/>This feature layer shows Population Density for the United States by Congressional District. The layer also includes other demographic attributes for mapping purposes.<img src='https://python.playground.esri.com/portal/home/js/jsapi/esri/css/images/item_type_icons/featureshosted16.png' style=\"vertical-align:middle;\">Feature Layer Collection by esri_livingatlas\n",
       "                        <br/>Last Modified: October 07, 2016\n",
       "                        <br/>0 comments, 12 views\n",
       "                    </div>\n",
       "                </div>\n",
       "                "
      ],
      "text/plain": [
       "<Item title:\"2016 Population Density by Congressional District\" type:Feature Layer Collection owner:esri_livingatlas>"
      ]
     },
     "execution_count": 93,
     "metadata": {},
     "output_type": "execute_result"
    },
    {
     "data": {
      "text/plain": [
       "{'list': [], 'start': 1, 'num': 0, 'total': 0, 'nextStart': 1, 'fullCount': 0}"
      ]
     },
     "execution_count": 93,
     "metadata": {},
     "output_type": "execute_result"
    },
    {
     "data": {
      "text/plain": [
       "{'list': [], 'start': 1, 'num': 0, 'total': 0, 'nextStart': 1, 'fullCount': 0}"
      ]
     },
     "execution_count": 93,
     "metadata": {},
     "output_type": "execute_result"
    }
   ],
   "source": [
    "webmap_item = apl.content.get('ff48bbae433442a38f6c635b8c7baf72')\n",
    "webmap_item\n",
    "webmap_item.dependent_upon()\n",
    "webmap_item.dependent_to()"
   ]
  },
  {
   "cell_type": "code",
   "execution_count": 97,
   "metadata": {},
   "outputs": [
    {
     "data": {
      "text/html": [
       "<div class=\"item_container\" style=\"height: auto; overflow: hidden; border: 1px solid #cfcfcf; border-radius: 2px; background: #f6fafa; line-height: 1.21429em; padding: 10px;\">\n",
       "                    <div class=\"item_left\" style=\"width: 210px; float: left;\">\n",
       "                       <a href='https://python.playground.esri.com/portal/home/item.html?id=698624ecea2e4bbe967bd127c88cd538' target='_blank'>\n",
       "                        <img src='https://python.playground.esri.com/portal/portalimages/desktopapp.png' class=\"itemThumbnail\">\n",
       "                       </a>\n",
       "                    </div>\n",
       "\n",
       "                    <div class=\"item_right\"     style=\"float: none; width: auto; overflow: hidden;\">\n",
       "                        <a href='https://python.playground.esri.com/portal/home/item.html?id=698624ecea2e4bbe967bd127c88cd538' target='_blank'><b>U.S. Postal Point</b>\n",
       "                        </a>\n",
       "                        <br/><img src='https://python.playground.esri.com/portal/home/js/jsapi/esri/css/images/item_type_icons/layers16.png' style=\"vertical-align:middle;\">CSV by arcgis_python\n",
       "                        <br/>Last Modified: July 19, 2018\n",
       "                        <br/>0 comments, 1 views\n",
       "                    </div>\n",
       "                </div>\n",
       "                "
      ],
      "text/plain": [
       "<Item title:\"U.S. Postal Point\" type:CSV owner:arcgis_python>"
      ]
     },
     "execution_count": 97,
     "metadata": {},
     "output_type": "execute_result"
    },
    {
     "name": "stderr",
     "output_type": "stream",
     "text": [
      "You do not have permissions to access this resource or perform this operation.\n"
     ]
    },
    {
     "ename": "RuntimeError",
     "evalue": "You do not have permissions to access this resource or perform this operation.\n(Error Code: 403)",
     "output_type": "error",
     "traceback": [
      "\u001b[1;31m---------------------------------------------------------------------------\u001b[0m",
      "\u001b[1;31mRuntimeError\u001b[0m                              Traceback (most recent call last)",
      "\u001b[1;32m<ipython-input-97-5c312c20a62d>\u001b[0m in \u001b[0;36m<module>\u001b[1;34m()\u001b[0m\n\u001b[0;32m      3\u001b[0m \u001b[0mwebmap_related_item\u001b[0m\u001b[1;33m\u001b[0m\u001b[0m\n\u001b[0;32m      4\u001b[0m \u001b[1;31m# add a relationship\u001b[0m\u001b[1;33m\u001b[0m\u001b[1;33m\u001b[0m\u001b[0m\n\u001b[1;32m----> 5\u001b[1;33m \u001b[0mwebmap_item\u001b[0m\u001b[1;33m.\u001b[0m\u001b[0madd_relationship\u001b[0m\u001b[1;33m(\u001b[0m\u001b[0mrel_item\u001b[0m\u001b[1;33m=\u001b[0m \u001b[0mwebmap_related_item\u001b[0m\u001b[1;33m,\u001b[0m \u001b[0mrel_type\u001b[0m\u001b[1;33m=\u001b[0m \u001b[1;34m'Map2Service'\u001b[0m\u001b[1;33m)\u001b[0m\u001b[1;33m\u001b[0m\u001b[0m\n\u001b[0m\u001b[0;32m      6\u001b[0m \u001b[0mwebmap_item\u001b[0m\u001b[1;33m.\u001b[0m\u001b[0mrelated_items\u001b[0m\u001b[1;33m(\u001b[0m\u001b[1;34m'Map2Service'\u001b[0m\u001b[1;33m,\u001b[0m \u001b[1;34m'forward'\u001b[0m\u001b[1;33m)\u001b[0m\u001b[1;33m\u001b[0m\u001b[0m\n",
      "\u001b[1;32m~\\AppData\\Local\\Continuum\\anaconda3\\lib\\site-packages\\arcgis\\gis\\__init__.py\u001b[0m in \u001b[0;36madd_relationship\u001b[1;34m(self, rel_item, rel_type)\u001b[0m\n\u001b[0;32m   6220\u001b[0m         \u001b[0mpath\u001b[0m \u001b[1;33m+=\u001b[0m \u001b[1;34m'/addRelationship'\u001b[0m\u001b[1;33m\u001b[0m\u001b[0m\n\u001b[0;32m   6221\u001b[0m \u001b[1;33m\u001b[0m\u001b[0m\n\u001b[1;32m-> 6222\u001b[1;33m         \u001b[0mresp\u001b[0m \u001b[1;33m=\u001b[0m \u001b[0mself\u001b[0m\u001b[1;33m.\u001b[0m\u001b[0m_portal\u001b[0m\u001b[1;33m.\u001b[0m\u001b[0mcon\u001b[0m\u001b[1;33m.\u001b[0m\u001b[0mpost\u001b[0m\u001b[1;33m(\u001b[0m\u001b[0mpath\u001b[0m\u001b[1;33m,\u001b[0m \u001b[0mpostdata\u001b[0m\u001b[1;33m)\u001b[0m\u001b[1;33m\u001b[0m\u001b[0m\n\u001b[0m\u001b[0;32m   6223\u001b[0m         \u001b[1;32mif\u001b[0m \u001b[0mresp\u001b[0m\u001b[1;33m:\u001b[0m\u001b[1;33m\u001b[0m\u001b[0m\n\u001b[0;32m   6224\u001b[0m             \u001b[1;32mreturn\u001b[0m \u001b[0mresp\u001b[0m\u001b[1;33m.\u001b[0m\u001b[0mget\u001b[0m\u001b[1;33m(\u001b[0m\u001b[1;34m'success'\u001b[0m\u001b[1;33m)\u001b[0m\u001b[1;33m\u001b[0m\u001b[0m\n",
      "\u001b[1;32m~\\AppData\\Local\\Continuum\\anaconda3\\lib\\site-packages\\arcgis\\_impl\\connection.py\u001b[0m in \u001b[0;36mpost\u001b[1;34m(self, path, postdata, files, ssl, compress, is_retry, use_ordered_dict, add_token, verify_cert, token, try_json, out_folder, file_name, force_bytes, add_headers)\u001b[0m\n\u001b[0;32m   1154\u001b[0m                                          verify_cert=verify_cert, is_retry=True)\n\u001b[0;32m   1155\u001b[0m \u001b[1;33m\u001b[0m\u001b[0m\n\u001b[1;32m-> 1156\u001b[1;33m                 \u001b[0mself\u001b[0m\u001b[1;33m.\u001b[0m\u001b[0m_handle_json_error\u001b[0m\u001b[1;33m(\u001b[0m\u001b[0mresp_json\u001b[0m\u001b[1;33m[\u001b[0m\u001b[1;34m'error'\u001b[0m\u001b[1;33m]\u001b[0m\u001b[1;33m,\u001b[0m \u001b[0merrorcode\u001b[0m\u001b[1;33m)\u001b[0m\u001b[1;33m\u001b[0m\u001b[0m\n\u001b[0m\u001b[0;32m   1157\u001b[0m                 \u001b[1;32mreturn\u001b[0m \u001b[1;32mNone\u001b[0m\u001b[1;33m\u001b[0m\u001b[0m\n\u001b[0;32m   1158\u001b[0m \u001b[1;33m\u001b[0m\u001b[0m\n",
      "\u001b[1;32m~\\AppData\\Local\\Continuum\\anaconda3\\lib\\site-packages\\arcgis\\_impl\\connection.py\u001b[0m in \u001b[0;36m_handle_json_error\u001b[1;34m(self, error, errorcode)\u001b[0m\n\u001b[0;32m   1175\u001b[0m \u001b[1;33m\u001b[0m\u001b[0m\n\u001b[0;32m   1176\u001b[0m         \u001b[0merrormessage\u001b[0m \u001b[1;33m=\u001b[0m \u001b[0merrormessage\u001b[0m \u001b[1;33m+\u001b[0m \u001b[1;34m\"\\n(Error Code: \"\u001b[0m \u001b[1;33m+\u001b[0m \u001b[0mstr\u001b[0m\u001b[1;33m(\u001b[0m\u001b[0merrorcode\u001b[0m\u001b[1;33m)\u001b[0m \u001b[1;33m+\u001b[0m\u001b[1;34m\")\"\u001b[0m\u001b[1;33m\u001b[0m\u001b[0m\n\u001b[1;32m-> 1177\u001b[1;33m         \u001b[1;32mraise\u001b[0m \u001b[0mRuntimeError\u001b[0m\u001b[1;33m(\u001b[0m\u001b[0merrormessage\u001b[0m\u001b[1;33m)\u001b[0m\u001b[1;33m\u001b[0m\u001b[0m\n\u001b[0m\u001b[0;32m   1178\u001b[0m \u001b[1;33m\u001b[0m\u001b[0m\n\u001b[0;32m   1179\u001b[0m \u001b[1;32mclass\u001b[0m \u001b[0m_StrictURLopener\u001b[0m\u001b[1;33m(\u001b[0m\u001b[0mrequest\u001b[0m\u001b[1;33m.\u001b[0m\u001b[0mFancyURLopener\u001b[0m\u001b[1;33m)\u001b[0m\u001b[1;33m:\u001b[0m\u001b[1;33m\u001b[0m\u001b[0m\n",
      "\u001b[1;31mRuntimeError\u001b[0m: You do not have permissions to access this resource or perform this operation.\n(Error Code: 403)"
     ]
    }
   ],
   "source": [
    "#from the example above, use the item id of first relationship to get the related item\n",
    "webmap_related_item = apl.content.get('698624ecea2e4bbe967bd127c88cd538')\n",
    "webmap_related_item\n",
    "# add a relationship\n",
    "webmap_item.add_relationship(rel_item= webmap_related_item, rel_type= 'Map2Service')\n",
    "webmap_item.related_items('Map2Service', 'forward')"
   ]
  },
  {
   "cell_type": "markdown",
   "metadata": {},
   "source": [
    "### Deleting relationships\n",
    "You can remove defunct relationships by calling the delete_relationship() method and passing the relationship type and related item."
   ]
  },
  {
   "cell_type": "code",
   "execution_count": null,
   "metadata": {},
   "outputs": [],
   "source": []
  }
 ],
 "metadata": {
  "kernelspec": {
   "display_name": "Python 3",
   "language": "python",
   "name": "python3"
  },
  "language_info": {
   "codemirror_mode": {
    "name": "ipython",
    "version": 3
   },
   "file_extension": ".py",
   "mimetype": "text/x-python",
   "name": "python",
   "nbconvert_exporter": "python",
   "pygments_lexer": "ipython3",
   "version": "3.6.5"
  }
 },
 "nbformat": 4,
 "nbformat_minor": 2
}
